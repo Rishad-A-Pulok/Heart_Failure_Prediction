{
  "nbformat": 4,
  "nbformat_minor": 0,
  "metadata": {
    "colab": {
      "name": "Heart_Failure_Prediction.ipynb",
      "provenance": []
    },
    "kernelspec": {
      "name": "python3",
      "display_name": "Python 3"
    },
    "language_info": {
      "name": "python"
    }
  },
  "cells": [
    {
      "cell_type": "code",
      "metadata": {
        "id": "RpFPZUTwS4gR"
      },
      "source": [
        "import numpy as np\n",
        "import pandas as pd\n",
        "import matplotlib.pyplot as plt\n",
        "import seaborn as sb\n",
        "from sklearn.preprocessing import StandardScaler"
      ],
      "execution_count": 1,
      "outputs": []
    },
    {
      "cell_type": "code",
      "metadata": {
        "colab": {
          "resources": {
            "http://localhost:8080/nbextensions/google.colab/files.js": {
              "data": "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",
              "ok": true,
              "headers": [
                [
                  "content-type",
                  "application/javascript"
                ]
              ],
              "status": 200,
              "status_text": ""
            }
          },
          "base_uri": "https://localhost:8080/",
          "height": 110
        },
        "id": "g78Fur33TGXX",
        "outputId": "8d06b7a2-1543-445a-db3d-912415ffb682"
      },
      "source": [
        "from google.colab import files\n",
        "files.upload()"
      ],
      "execution_count": 3,
      "outputs": [
        {
          "output_type": "display_data",
          "data": {
            "text/html": [
              "\n",
              "     <input type=\"file\" id=\"files-11db6af7-1325-457b-a7a4-755eab12ec15\" name=\"files[]\" multiple disabled\n",
              "        style=\"border:none\" />\n",
              "     <output id=\"result-11db6af7-1325-457b-a7a4-755eab12ec15\">\n",
              "      Upload widget is only available when the cell has been executed in the\n",
              "      current browser session. Please rerun this cell to enable.\n",
              "      </output>\n",
              "      <script src=\"/nbextensions/google.colab/files.js\"></script> "
            ],
            "text/plain": [
              "<IPython.core.display.HTML object>"
            ]
          },
          "metadata": {}
        },
        {
          "output_type": "stream",
          "name": "stdout",
          "text": [
            "Saving heart_failure.csv to heart_failure.csv\n"
          ]
        },
        {
          "output_type": "execute_result",
          "data": {
            "text/plain": [
              "{'heart_failure.csv': b'age,anaemia,creatinine_phosphokinase,diabetes,ejection_fraction,high_blood_pressure,platelets,serum_creatinine,serum_sodium,sex,smoking,time,DEATH_EVENT\\n75,0,582,0,20,1,265000,1.9,130,1,0,4,1\\n55,0,7861,0,38,0,263358.03,1.1,136,1,0,6,1\\n65,0,146,0,20,0,162000,1.3,129,1,1,7,1\\n50,1,111,0,20,0,210000,1.9,137,1,0,7,1\\n65,1,160,1,20,0,327000,2.7,116,0,0,8,1\\n90,1,47,0,40,1,204000,2.1,132,1,1,8,1\\n75,1,246,0,15,0,127000,1.2,137,1,0,10,1\\n60,1,315,1,60,0,454000,1.1,131,1,1,10,1\\n65,0,157,0,65,0,263358.03,1.5,138,0,0,10,1\\n80,1,123,0,35,1,388000,9.4,133,1,1,10,1\\n75,1,81,0,38,1,368000,4,131,1,1,10,1\\n62,0,231,0,25,1,253000,0.9,140,1,1,10,1\\n45,1,981,0,30,0,136000,1.1,137,1,0,11,1\\n50,1,168,0,38,1,276000,1.1,137,1,0,11,1\\n49,1,80,0,30,1,427000,1,138,0,0,12,0\\n82,1,379,0,50,0,47000,1.3,136,1,0,13,1\\n87,1,149,0,38,0,262000,0.9,140,1,0,14,1\\n45,0,582,0,14,0,166000,0.8,127,1,0,14,1\\n70,1,125,0,25,1,237000,1,140,0,0,15,1\\n48,1,582,1,55,0,87000,1.9,121,0,0,15,1\\n65,1,52,0,25,1,276000,1.3,137,0,0,16,0\\n65,1,128,1,30,1,297000,1.6,136,0,0,20,1\\n68,1,220,0,35,1,289000,0.9,140,1,1,20,1\\n53,0,63,1,60,0,368000,0.8,135,1,0,22,0\\n75,0,582,1,30,1,263358.03,1.83,134,0,0,23,1\\n80,0,148,1,38,0,149000,1.9,144,1,1,23,1\\n95,1,112,0,40,1,196000,1,138,0,0,24,1\\n70,0,122,1,45,1,284000,1.3,136,1,1,26,1\\n58,1,60,0,38,0,153000,5.8,134,1,0,26,1\\n82,0,70,1,30,0,200000,1.2,132,1,1,26,1\\n94,0,582,1,38,1,263358.03,1.83,134,1,0,27,1\\n85,0,23,0,45,0,360000,3,132,1,0,28,1\\n50,1,249,1,35,1,319000,1,128,0,0,28,1\\n50,1,159,1,30,0,302000,1.2,138,0,0,29,0\\n65,0,94,1,50,1,188000,1,140,1,0,29,1\\n69,0,582,1,35,0,228000,3.5,134,1,0,30,1\\n90,1,60,1,50,0,226000,1,134,1,0,30,1\\n82,1,855,1,50,1,321000,1,145,0,0,30,1\\n60,0,2656,1,30,0,305000,2.3,137,1,0,30,0\\n60,0,235,1,38,0,329000,3,142,0,0,30,1\\n70,0,582,0,20,1,263358.03,1.83,134,1,1,31,1\\n50,0,124,1,30,1,153000,1.2,136,0,1,32,1\\n70,0,571,1,45,1,185000,1.2,139,1,1,33,1\\n72,0,127,1,50,1,218000,1,134,1,0,33,0\\n60,1,588,1,60,0,194000,1.1,142,0,0,33,1\\n50,0,582,1,38,0,310000,1.9,135,1,1,35,1\\n51,0,1380,0,25,1,271000,0.9,130,1,0,38,1\\n60,0,582,1,38,1,451000,0.6,138,1,1,40,1\\n80,1,553,0,20,1,140000,4.4,133,1,0,41,1\\n57,1,129,0,30,0,395000,1,140,0,0,42,1\\n68,1,577,0,25,1,166000,1,138,1,0,43,1\\n53,1,91,0,20,1,418000,1.4,139,0,0,43,1\\n60,0,3964,1,62,0,263358.03,6.8,146,0,0,43,1\\n70,1,69,1,50,1,351000,1,134,0,0,44,1\\n60,1,260,1,38,0,255000,2.2,132,0,1,45,1\\n95,1,371,0,30,0,461000,2,132,1,0,50,1\\n70,1,75,0,35,0,223000,2.7,138,1,1,54,0\\n60,1,607,0,40,0,216000,0.6,138,1,1,54,0\\n49,0,789,0,20,1,319000,1.1,136,1,1,55,1\\n72,0,364,1,20,1,254000,1.3,136,1,1,59,1\\n45,0,7702,1,25,1,390000,1,139,1,0,60,1\\n50,0,318,0,40,1,216000,2.3,131,0,0,60,1\\n55,0,109,0,35,0,254000,1.1,139,1,1,60,0\\n45,0,582,0,35,0,385000,1,145,1,0,61,1\\n45,0,582,0,80,0,263358.03,1.18,137,0,0,63,0\\n60,0,68,0,20,0,119000,2.9,127,1,1,64,1\\n42,1,250,1,15,0,213000,1.3,136,0,0,65,1\\n72,1,110,0,25,0,274000,1,140,1,1,65,1\\n70,0,161,0,25,0,244000,1.2,142,0,0,66,1\\n65,0,113,1,25,0,497000,1.83,135,1,0,67,1\\n41,0,148,0,40,0,374000,0.8,140,1,1,68,0\\n58,0,582,1,35,0,122000,0.9,139,1,1,71,0\\n85,0,5882,0,35,0,243000,1,132,1,1,72,1\\n65,0,224,1,50,0,149000,1.3,137,1,1,72,0\\n69,0,582,0,20,0,266000,1.2,134,1,1,73,1\\n60,1,47,0,20,0,204000,0.7,139,1,1,73,1\\n70,0,92,0,60,1,317000,0.8,140,0,1,74,0\\n42,0,102,1,40,0,237000,1.2,140,1,0,74,0\\n75,1,203,1,38,1,283000,0.6,131,1,1,74,0\\n55,0,336,0,45,1,324000,0.9,140,0,0,74,0\\n70,0,69,0,40,0,293000,1.7,136,0,0,75,0\\n67,0,582,0,50,0,263358.03,1.18,137,1,1,76,0\\n60,1,76,1,25,0,196000,2.5,132,0,0,77,1\\n79,1,55,0,50,1,172000,1.8,133,1,0,78,0\\n59,1,280,1,25,1,302000,1,141,0,0,78,1\\n51,0,78,0,50,0,406000,0.7,140,1,0,79,0\\n55,0,47,0,35,1,173000,1.1,137,1,0,79,0\\n65,1,68,1,60,1,304000,0.8,140,1,0,79,0\\n44,0,84,1,40,1,235000,0.7,139,1,0,79,0\\n57,1,115,0,25,1,181000,1.1,144,1,0,79,0\\n70,0,66,1,45,0,249000,0.8,136,1,1,80,0\\n60,0,897,1,45,0,297000,1,133,1,0,80,0\\n42,0,582,0,60,0,263358.03,1.18,137,0,0,82,0\\n60,1,154,0,25,0,210000,1.7,135,1,0,82,1\\n58,0,144,1,38,1,327000,0.7,142,0,0,83,0\\n58,1,133,0,60,1,219000,1,141,1,0,83,0\\n63,1,514,1,25,1,254000,1.3,134,1,0,83,0\\n70,1,59,0,60,0,255000,1.1,136,0,0,85,0\\n60,1,156,1,25,1,318000,1.2,137,0,0,85,0\\n63,1,61,1,40,0,221000,1.1,140,0,0,86,0\\n65,1,305,0,25,0,298000,1.1,141,1,0,87,0\\n75,0,582,0,45,1,263358.03,1.18,137,1,0,87,0\\n80,0,898,0,25,0,149000,1.1,144,1,1,87,0\\n42,0,5209,0,30,0,226000,1,140,1,1,87,0\\n60,0,53,0,50,1,286000,2.3,143,0,0,87,0\\n72,1,328,0,30,1,621000,1.7,138,0,1,88,1\\n55,0,748,0,45,0,263000,1.3,137,1,0,88,0\\n45,1,1876,1,35,0,226000,0.9,138,1,0,88,0\\n63,0,936,0,38,0,304000,1.1,133,1,1,88,0\\n45,0,292,1,35,0,850000,1.3,142,1,1,88,0\\n85,0,129,0,60,0,306000,1.2,132,1,1,90,1\\n55,0,60,0,35,0,228000,1.2,135,1,1,90,0\\n50,0,369,1,25,0,252000,1.6,136,1,0,90,0\\n70,1,143,0,60,0,351000,1.3,137,0,0,90,1\\n60,1,754,1,40,1,328000,1.2,126,1,0,91,0\\n58,1,400,0,40,0,164000,1,139,0,0,91,0\\n60,1,96,1,60,1,271000,0.7,136,0,0,94,0\\n85,1,102,0,60,0,507000,3.2,138,0,0,94,0\\n65,1,113,1,60,1,203000,0.9,140,0,0,94,0\\n86,0,582,0,38,0,263358.03,1.83,134,0,0,95,1\\n60,1,737,0,60,1,210000,1.5,135,1,1,95,0\\n66,1,68,1,38,1,162000,1,136,0,0,95,0\\n60,0,96,1,38,0,228000,0.75,140,0,0,95,0\\n60,1,582,0,30,1,127000,0.9,145,0,0,95,0\\n60,0,582,0,40,0,217000,3.7,134,1,0,96,1\\n43,1,358,0,50,0,237000,1.3,135,0,0,97,0\\n46,0,168,1,17,1,271000,2.1,124,0,0,100,1\\n58,1,200,1,60,0,300000,0.8,137,0,0,104,0\\n61,0,248,0,30,1,267000,0.7,136,1,1,104,0\\n53,1,270,1,35,0,227000,3.4,145,1,0,105,0\\n53,1,1808,0,60,1,249000,0.7,138,1,1,106,0\\n60,1,1082,1,45,0,250000,6.1,131,1,0,107,0\\n46,0,719,0,40,1,263358.03,1.18,137,0,0,107,0\\n63,0,193,0,60,1,295000,1.3,145,1,1,107,0\\n81,0,4540,0,35,0,231000,1.18,137,1,1,107,0\\n75,0,582,0,40,0,263358.03,1.18,137,1,0,107,0\\n65,1,59,1,60,0,172000,0.9,137,0,0,107,0\\n68,1,646,0,25,0,305000,2.1,130,1,0,108,0\\n62,0,281,1,35,0,221000,1,136,0,0,108,0\\n50,0,1548,0,30,1,211000,0.8,138,1,0,108,0\\n80,0,805,0,38,0,263358.03,1.1,134,1,0,109,1\\n46,1,291,0,35,0,348000,0.9,140,0,0,109,0\\n50,0,482,1,30,0,329000,0.9,132,0,0,109,0\\n61,1,84,0,40,1,229000,0.9,141,0,0,110,0\\n72,1,943,0,25,1,338000,1.7,139,1,1,111,1\\n50,0,185,0,30,0,266000,0.7,141,1,1,112,0\\n52,0,132,0,30,0,218000,0.7,136,1,1,112,0\\n64,0,1610,0,60,0,242000,1,137,1,0,113,0\\n75,1,582,0,30,0,225000,1.83,134,1,0,113,1\\n60,0,2261,0,35,1,228000,0.9,136,1,0,115,0\\n72,0,233,0,45,1,235000,2.5,135,0,0,115,1\\n62,0,30,1,60,1,244000,0.9,139,1,0,117,0\\n50,0,115,0,45,1,184000,0.9,134,1,1,118,0\\n50,0,1846,1,35,0,263358.03,1.18,137,1,1,119,0\\n65,1,335,0,35,1,235000,0.8,136,0,0,120,0\\n60,1,231,1,25,0,194000,1.7,140,1,0,120,0\\n52,1,58,0,35,0,277000,1.4,136,0,0,120,0\\n50,0,250,0,25,0,262000,1,136,1,1,120,0\\n85,1,910,0,50,0,235000,1.3,134,1,0,121,0\\n59,1,129,0,45,1,362000,1.1,139,1,1,121,0\\n66,1,72,0,40,1,242000,1.2,134,1,0,121,0\\n45,1,130,0,35,0,174000,0.8,139,1,1,121,0\\n63,1,582,0,40,0,448000,0.9,137,1,1,123,0\\n50,1,2334,1,35,0,75000,0.9,142,0,0,126,1\\n45,0,2442,1,30,0,334000,1.1,139,1,0,129,1\\n80,0,776,1,38,1,192000,1.3,135,0,0,130,1\\n53,0,196,0,60,0,220000,0.7,133,1,1,134,0\\n59,0,66,1,20,0,70000,2.4,134,1,0,135,1\\n65,0,582,1,40,0,270000,1,138,0,0,140,0\\n70,0,835,0,35,1,305000,0.8,133,0,0,145,0\\n51,1,582,1,35,0,263358.03,1.5,136,1,1,145,0\\n52,0,3966,0,40,0,325000,0.9,140,1,1,146,0\\n70,1,171,0,60,1,176000,1.1,145,1,1,146,0\\n50,1,115,0,20,0,189000,0.8,139,1,0,146,0\\n65,0,198,1,35,1,281000,0.9,137,1,1,146,0\\n60,1,95,0,60,0,337000,1,138,1,1,146,0\\n69,0,1419,0,40,0,105000,1,135,1,1,147,0\\n49,1,69,0,50,0,132000,1,140,0,0,147,0\\n63,1,122,1,60,0,267000,1.2,145,1,0,147,0\\n55,0,835,0,40,0,279000,0.7,140,1,1,147,0\\n40,0,478,1,30,0,303000,0.9,136,1,0,148,0\\n59,1,176,1,25,0,221000,1,136,1,1,150,1\\n65,0,395,1,25,0,265000,1.2,136,1,1,154,1\\n75,0,99,0,38,1,224000,2.5,134,1,0,162,1\\n58,1,145,0,25,0,219000,1.2,137,1,1,170,1\\n60.667,1,104,1,30,0,389000,1.5,136,1,0,171,1\\n50,0,582,0,50,0,153000,0.6,134,0,0,172,1\\n60,0,1896,1,25,0,365000,2.1,144,0,0,172,1\\n60.667,1,151,1,40,1,201000,1,136,0,0,172,0\\n40,0,244,0,45,1,275000,0.9,140,0,0,174,0\\n80,0,582,1,35,0,350000,2.1,134,1,0,174,0\\n64,1,62,0,60,0,309000,1.5,135,0,0,174,0\\n50,1,121,1,40,0,260000,0.7,130,1,0,175,0\\n73,1,231,1,30,0,160000,1.18,142,1,1,180,0\\n45,0,582,0,20,1,126000,1.6,135,1,0,180,1\\n77,1,418,0,45,0,223000,1.8,145,1,0,180,1\\n45,0,582,1,38,1,263358.03,1.18,137,0,0,185,0\\n65,0,167,0,30,0,259000,0.8,138,0,0,186,0\\n50,1,582,1,20,1,279000,1,134,0,0,186,0\\n60,0,1211,1,35,0,263358.03,1.8,113,1,1,186,0\\n63,1,1767,0,45,0,73000,0.7,137,1,0,186,0\\n45,0,308,1,60,1,377000,1,136,1,0,186,0\\n70,0,97,0,60,1,220000,0.9,138,1,0,186,0\\n60,0,59,0,25,1,212000,3.5,136,1,1,187,0\\n78,1,64,0,40,0,277000,0.7,137,1,1,187,0\\n50,1,167,1,45,0,362000,1,136,0,0,187,0\\n40,1,101,0,40,0,226000,0.8,141,0,0,187,0\\n85,0,212,0,38,0,186000,0.9,136,1,0,187,0\\n60,1,2281,1,40,0,283000,1,141,0,0,187,0\\n49,0,972,1,35,1,268000,0.8,130,0,0,187,0\\n70,0,212,1,17,1,389000,1,136,1,1,188,0\\n50,0,582,0,62,1,147000,0.8,140,1,1,192,0\\n78,0,224,0,50,0,481000,1.4,138,1,1,192,0\\n48,1,131,1,30,1,244000,1.6,130,0,0,193,1\\n65,1,135,0,35,1,290000,0.8,134,1,0,194,0\\n73,0,582,0,35,1,203000,1.3,134,1,0,195,0\\n70,0,1202,0,50,1,358000,0.9,141,0,0,196,0\\n54,1,427,0,70,1,151000,9,137,0,0,196,1\\n68,1,1021,1,35,0,271000,1.1,134,1,0,197,0\\n55,0,582,1,35,1,371000,0.7,140,0,0,197,0\\n73,0,582,0,20,0,263358.03,1.83,134,1,0,198,1\\n65,0,118,0,50,0,194000,1.1,145,1,1,200,0\\n42,1,86,0,35,0,365000,1.1,139,1,1,201,0\\n47,0,582,0,25,0,130000,0.8,134,1,0,201,0\\n58,0,582,1,25,0,504000,1,138,1,0,205,0\\n75,0,675,1,60,0,265000,1.4,125,0,0,205,0\\n58,1,57,0,25,0,189000,1.3,132,1,1,205,0\\n55,1,2794,0,35,1,141000,1,140,1,0,206,0\\n65,0,56,0,25,0,237000,5,130,0,0,207,0\\n72,0,211,0,25,0,274000,1.2,134,0,0,207,0\\n60,0,166,0,30,0,62000,1.7,127,0,0,207,1\\n70,0,93,0,35,0,185000,1.1,134,1,1,208,0\\n40,1,129,0,35,0,255000,0.9,137,1,0,209,0\\n53,1,707,0,38,0,330000,1.4,137,1,1,209,0\\n53,1,582,0,45,0,305000,1.1,137,1,1,209,0\\n77,1,109,0,50,1,406000,1.1,137,1,0,209,0\\n75,0,119,0,50,1,248000,1.1,148,1,0,209,0\\n70,0,232,0,30,0,173000,1.2,132,1,0,210,0\\n65,1,720,1,40,0,257000,1,136,0,0,210,0\\n55,1,180,0,45,0,263358.03,1.18,137,1,1,211,0\\n70,0,81,1,35,1,533000,1.3,139,0,0,212,0\\n65,0,582,1,30,0,249000,1.3,136,1,1,212,0\\n40,0,90,0,35,0,255000,1.1,136,1,1,212,0\\n73,1,1185,0,40,1,220000,0.9,141,0,0,213,0\\n54,0,582,1,38,0,264000,1.8,134,1,0,213,0\\n61,1,80,1,38,0,282000,1.4,137,1,0,213,0\\n55,0,2017,0,25,0,314000,1.1,138,1,0,214,1\\n64,0,143,0,25,0,246000,2.4,135,1,0,214,0\\n40,0,624,0,35,0,301000,1,142,1,1,214,0\\n53,0,207,1,40,0,223000,1.2,130,0,0,214,0\\n50,0,2522,0,30,1,404000,0.5,139,0,0,214,0\\n55,0,572,1,35,0,231000,0.8,143,0,0,215,0\\n50,0,245,0,45,1,274000,1,133,1,0,215,0\\n70,0,88,1,35,1,236000,1.2,132,0,0,215,0\\n53,1,446,0,60,1,263358.03,1,139,1,0,215,0\\n52,1,191,1,30,1,334000,1,142,1,1,216,0\\n65,0,326,0,38,0,294000,1.7,139,0,0,220,0\\n58,0,132,1,38,1,253000,1,139,1,0,230,0\\n45,1,66,1,25,0,233000,0.8,135,1,0,230,0\\n53,0,56,0,50,0,308000,0.7,135,1,1,231,0\\n55,0,66,0,40,0,203000,1,138,1,0,233,0\\n62,1,655,0,40,0,283000,0.7,133,0,0,233,0\\n65,1,258,1,25,0,198000,1.4,129,1,0,235,1\\n68,1,157,1,60,0,208000,1,140,0,0,237,0\\n61,0,582,1,38,0,147000,1.2,141,1,0,237,0\\n50,1,298,0,35,0,362000,0.9,140,1,1,240,0\\n55,0,1199,0,20,0,263358.03,1.83,134,1,1,241,1\\n56,1,135,1,38,0,133000,1.7,140,1,0,244,0\\n45,0,582,1,38,0,302000,0.9,140,0,0,244,0\\n40,0,582,1,35,0,222000,1,132,1,0,244,0\\n44,0,582,1,30,1,263358.03,1.6,130,1,1,244,0\\n51,0,582,1,40,0,221000,0.9,134,0,0,244,0\\n67,0,213,0,38,0,215000,1.2,133,0,0,245,0\\n42,0,64,0,40,0,189000,0.7,140,1,0,245,0\\n60,1,257,1,30,0,150000,1,137,1,1,245,0\\n45,0,582,0,38,1,422000,0.8,137,0,0,245,0\\n70,0,618,0,35,0,327000,1.1,142,0,0,245,0\\n70,0,582,1,38,0,25100,1.1,140,1,0,246,0\\n50,1,1051,1,30,0,232000,0.7,136,0,0,246,0\\n55,0,84,1,38,0,451000,1.3,136,0,0,246,0\\n70,0,2695,1,40,0,241000,1,137,1,0,247,0\\n70,0,582,0,40,0,51000,2.7,136,1,1,250,0\\n42,0,64,0,30,0,215000,3.8,128,1,1,250,0\\n65,0,1688,0,38,0,263358.03,1.1,138,1,1,250,0\\n50,1,54,0,40,0,279000,0.8,141,1,0,250,0\\n55,1,170,1,40,0,336000,1.2,135,1,0,250,0\\n60,0,253,0,35,0,279000,1.7,140,1,0,250,0\\n45,0,582,1,55,0,543000,1,132,0,0,250,0\\n65,0,892,1,35,0,263358.03,1.1,142,0,0,256,0\\n90,1,337,0,38,0,390000,0.9,144,0,0,256,0\\n45,0,615,1,55,0,222000,0.8,141,0,0,257,0\\n60,0,320,0,35,0,133000,1.4,139,1,0,258,0\\n52,0,190,1,38,0,382000,1,140,1,1,258,0\\n63,1,103,1,35,0,179000,0.9,136,1,1,270,0\\n62,0,61,1,38,1,155000,1.1,143,1,1,270,0\\n55,0,1820,0,38,0,270000,1.2,139,0,0,271,0\\n45,0,2060,1,60,0,742000,0.8,138,0,0,278,0\\n45,0,2413,0,38,0,140000,1.4,140,1,1,280,0\\n50,0,196,0,45,0,395000,1.6,136,1,1,285,0\\n'}"
            ]
          },
          "metadata": {},
          "execution_count": 3
        }
      ]
    },
    {
      "cell_type": "code",
      "metadata": {
        "colab": {
          "base_uri": "https://localhost:8080/",
          "height": 424
        },
        "id": "djZjs_TFTJKF",
        "outputId": "14a5e96b-8d17-4bd2-9cf5-0c41e1041195"
      },
      "source": [
        "df=pd.read_csv('heart_failure.csv')\n",
        "df"
      ],
      "execution_count": 5,
      "outputs": [
        {
          "output_type": "execute_result",
          "data": {
            "text/html": [
              "<div>\n",
              "<style scoped>\n",
              "    .dataframe tbody tr th:only-of-type {\n",
              "        vertical-align: middle;\n",
              "    }\n",
              "\n",
              "    .dataframe tbody tr th {\n",
              "        vertical-align: top;\n",
              "    }\n",
              "\n",
              "    .dataframe thead th {\n",
              "        text-align: right;\n",
              "    }\n",
              "</style>\n",
              "<table border=\"1\" class=\"dataframe\">\n",
              "  <thead>\n",
              "    <tr style=\"text-align: right;\">\n",
              "      <th></th>\n",
              "      <th>age</th>\n",
              "      <th>anaemia</th>\n",
              "      <th>creatinine_phosphokinase</th>\n",
              "      <th>diabetes</th>\n",
              "      <th>ejection_fraction</th>\n",
              "      <th>high_blood_pressure</th>\n",
              "      <th>platelets</th>\n",
              "      <th>serum_creatinine</th>\n",
              "      <th>serum_sodium</th>\n",
              "      <th>sex</th>\n",
              "      <th>smoking</th>\n",
              "      <th>time</th>\n",
              "      <th>DEATH_EVENT</th>\n",
              "    </tr>\n",
              "  </thead>\n",
              "  <tbody>\n",
              "    <tr>\n",
              "      <th>0</th>\n",
              "      <td>75.0</td>\n",
              "      <td>0</td>\n",
              "      <td>582</td>\n",
              "      <td>0</td>\n",
              "      <td>20</td>\n",
              "      <td>1</td>\n",
              "      <td>265000.00</td>\n",
              "      <td>1.9</td>\n",
              "      <td>130</td>\n",
              "      <td>1</td>\n",
              "      <td>0</td>\n",
              "      <td>4</td>\n",
              "      <td>1</td>\n",
              "    </tr>\n",
              "    <tr>\n",
              "      <th>1</th>\n",
              "      <td>55.0</td>\n",
              "      <td>0</td>\n",
              "      <td>7861</td>\n",
              "      <td>0</td>\n",
              "      <td>38</td>\n",
              "      <td>0</td>\n",
              "      <td>263358.03</td>\n",
              "      <td>1.1</td>\n",
              "      <td>136</td>\n",
              "      <td>1</td>\n",
              "      <td>0</td>\n",
              "      <td>6</td>\n",
              "      <td>1</td>\n",
              "    </tr>\n",
              "    <tr>\n",
              "      <th>2</th>\n",
              "      <td>65.0</td>\n",
              "      <td>0</td>\n",
              "      <td>146</td>\n",
              "      <td>0</td>\n",
              "      <td>20</td>\n",
              "      <td>0</td>\n",
              "      <td>162000.00</td>\n",
              "      <td>1.3</td>\n",
              "      <td>129</td>\n",
              "      <td>1</td>\n",
              "      <td>1</td>\n",
              "      <td>7</td>\n",
              "      <td>1</td>\n",
              "    </tr>\n",
              "    <tr>\n",
              "      <th>3</th>\n",
              "      <td>50.0</td>\n",
              "      <td>1</td>\n",
              "      <td>111</td>\n",
              "      <td>0</td>\n",
              "      <td>20</td>\n",
              "      <td>0</td>\n",
              "      <td>210000.00</td>\n",
              "      <td>1.9</td>\n",
              "      <td>137</td>\n",
              "      <td>1</td>\n",
              "      <td>0</td>\n",
              "      <td>7</td>\n",
              "      <td>1</td>\n",
              "    </tr>\n",
              "    <tr>\n",
              "      <th>4</th>\n",
              "      <td>65.0</td>\n",
              "      <td>1</td>\n",
              "      <td>160</td>\n",
              "      <td>1</td>\n",
              "      <td>20</td>\n",
              "      <td>0</td>\n",
              "      <td>327000.00</td>\n",
              "      <td>2.7</td>\n",
              "      <td>116</td>\n",
              "      <td>0</td>\n",
              "      <td>0</td>\n",
              "      <td>8</td>\n",
              "      <td>1</td>\n",
              "    </tr>\n",
              "    <tr>\n",
              "      <th>...</th>\n",
              "      <td>...</td>\n",
              "      <td>...</td>\n",
              "      <td>...</td>\n",
              "      <td>...</td>\n",
              "      <td>...</td>\n",
              "      <td>...</td>\n",
              "      <td>...</td>\n",
              "      <td>...</td>\n",
              "      <td>...</td>\n",
              "      <td>...</td>\n",
              "      <td>...</td>\n",
              "      <td>...</td>\n",
              "      <td>...</td>\n",
              "    </tr>\n",
              "    <tr>\n",
              "      <th>294</th>\n",
              "      <td>62.0</td>\n",
              "      <td>0</td>\n",
              "      <td>61</td>\n",
              "      <td>1</td>\n",
              "      <td>38</td>\n",
              "      <td>1</td>\n",
              "      <td>155000.00</td>\n",
              "      <td>1.1</td>\n",
              "      <td>143</td>\n",
              "      <td>1</td>\n",
              "      <td>1</td>\n",
              "      <td>270</td>\n",
              "      <td>0</td>\n",
              "    </tr>\n",
              "    <tr>\n",
              "      <th>295</th>\n",
              "      <td>55.0</td>\n",
              "      <td>0</td>\n",
              "      <td>1820</td>\n",
              "      <td>0</td>\n",
              "      <td>38</td>\n",
              "      <td>0</td>\n",
              "      <td>270000.00</td>\n",
              "      <td>1.2</td>\n",
              "      <td>139</td>\n",
              "      <td>0</td>\n",
              "      <td>0</td>\n",
              "      <td>271</td>\n",
              "      <td>0</td>\n",
              "    </tr>\n",
              "    <tr>\n",
              "      <th>296</th>\n",
              "      <td>45.0</td>\n",
              "      <td>0</td>\n",
              "      <td>2060</td>\n",
              "      <td>1</td>\n",
              "      <td>60</td>\n",
              "      <td>0</td>\n",
              "      <td>742000.00</td>\n",
              "      <td>0.8</td>\n",
              "      <td>138</td>\n",
              "      <td>0</td>\n",
              "      <td>0</td>\n",
              "      <td>278</td>\n",
              "      <td>0</td>\n",
              "    </tr>\n",
              "    <tr>\n",
              "      <th>297</th>\n",
              "      <td>45.0</td>\n",
              "      <td>0</td>\n",
              "      <td>2413</td>\n",
              "      <td>0</td>\n",
              "      <td>38</td>\n",
              "      <td>0</td>\n",
              "      <td>140000.00</td>\n",
              "      <td>1.4</td>\n",
              "      <td>140</td>\n",
              "      <td>1</td>\n",
              "      <td>1</td>\n",
              "      <td>280</td>\n",
              "      <td>0</td>\n",
              "    </tr>\n",
              "    <tr>\n",
              "      <th>298</th>\n",
              "      <td>50.0</td>\n",
              "      <td>0</td>\n",
              "      <td>196</td>\n",
              "      <td>0</td>\n",
              "      <td>45</td>\n",
              "      <td>0</td>\n",
              "      <td>395000.00</td>\n",
              "      <td>1.6</td>\n",
              "      <td>136</td>\n",
              "      <td>1</td>\n",
              "      <td>1</td>\n",
              "      <td>285</td>\n",
              "      <td>0</td>\n",
              "    </tr>\n",
              "  </tbody>\n",
              "</table>\n",
              "<p>299 rows × 13 columns</p>\n",
              "</div>"
            ],
            "text/plain": [
              "      age  anaemia  creatinine_phosphokinase  ...  smoking  time  DEATH_EVENT\n",
              "0    75.0        0                       582  ...        0     4            1\n",
              "1    55.0        0                      7861  ...        0     6            1\n",
              "2    65.0        0                       146  ...        1     7            1\n",
              "3    50.0        1                       111  ...        0     7            1\n",
              "4    65.0        1                       160  ...        0     8            1\n",
              "..    ...      ...                       ...  ...      ...   ...          ...\n",
              "294  62.0        0                        61  ...        1   270            0\n",
              "295  55.0        0                      1820  ...        0   271            0\n",
              "296  45.0        0                      2060  ...        0   278            0\n",
              "297  45.0        0                      2413  ...        1   280            0\n",
              "298  50.0        0                       196  ...        1   285            0\n",
              "\n",
              "[299 rows x 13 columns]"
            ]
          },
          "metadata": {},
          "execution_count": 5
        }
      ]
    },
    {
      "cell_type": "code",
      "metadata": {
        "colab": {
          "base_uri": "https://localhost:8080/",
          "height": 206
        },
        "id": "xaVZLH5CTbPl",
        "outputId": "801f1ebe-27c9-4cb8-f716-f5438807f083"
      },
      "source": [
        "# Display first five entries of data\n",
        "\n",
        "df.head()"
      ],
      "execution_count": 6,
      "outputs": [
        {
          "output_type": "execute_result",
          "data": {
            "text/html": [
              "<div>\n",
              "<style scoped>\n",
              "    .dataframe tbody tr th:only-of-type {\n",
              "        vertical-align: middle;\n",
              "    }\n",
              "\n",
              "    .dataframe tbody tr th {\n",
              "        vertical-align: top;\n",
              "    }\n",
              "\n",
              "    .dataframe thead th {\n",
              "        text-align: right;\n",
              "    }\n",
              "</style>\n",
              "<table border=\"1\" class=\"dataframe\">\n",
              "  <thead>\n",
              "    <tr style=\"text-align: right;\">\n",
              "      <th></th>\n",
              "      <th>age</th>\n",
              "      <th>anaemia</th>\n",
              "      <th>creatinine_phosphokinase</th>\n",
              "      <th>diabetes</th>\n",
              "      <th>ejection_fraction</th>\n",
              "      <th>high_blood_pressure</th>\n",
              "      <th>platelets</th>\n",
              "      <th>serum_creatinine</th>\n",
              "      <th>serum_sodium</th>\n",
              "      <th>sex</th>\n",
              "      <th>smoking</th>\n",
              "      <th>time</th>\n",
              "      <th>DEATH_EVENT</th>\n",
              "    </tr>\n",
              "  </thead>\n",
              "  <tbody>\n",
              "    <tr>\n",
              "      <th>0</th>\n",
              "      <td>75.0</td>\n",
              "      <td>0</td>\n",
              "      <td>582</td>\n",
              "      <td>0</td>\n",
              "      <td>20</td>\n",
              "      <td>1</td>\n",
              "      <td>265000.00</td>\n",
              "      <td>1.9</td>\n",
              "      <td>130</td>\n",
              "      <td>1</td>\n",
              "      <td>0</td>\n",
              "      <td>4</td>\n",
              "      <td>1</td>\n",
              "    </tr>\n",
              "    <tr>\n",
              "      <th>1</th>\n",
              "      <td>55.0</td>\n",
              "      <td>0</td>\n",
              "      <td>7861</td>\n",
              "      <td>0</td>\n",
              "      <td>38</td>\n",
              "      <td>0</td>\n",
              "      <td>263358.03</td>\n",
              "      <td>1.1</td>\n",
              "      <td>136</td>\n",
              "      <td>1</td>\n",
              "      <td>0</td>\n",
              "      <td>6</td>\n",
              "      <td>1</td>\n",
              "    </tr>\n",
              "    <tr>\n",
              "      <th>2</th>\n",
              "      <td>65.0</td>\n",
              "      <td>0</td>\n",
              "      <td>146</td>\n",
              "      <td>0</td>\n",
              "      <td>20</td>\n",
              "      <td>0</td>\n",
              "      <td>162000.00</td>\n",
              "      <td>1.3</td>\n",
              "      <td>129</td>\n",
              "      <td>1</td>\n",
              "      <td>1</td>\n",
              "      <td>7</td>\n",
              "      <td>1</td>\n",
              "    </tr>\n",
              "    <tr>\n",
              "      <th>3</th>\n",
              "      <td>50.0</td>\n",
              "      <td>1</td>\n",
              "      <td>111</td>\n",
              "      <td>0</td>\n",
              "      <td>20</td>\n",
              "      <td>0</td>\n",
              "      <td>210000.00</td>\n",
              "      <td>1.9</td>\n",
              "      <td>137</td>\n",
              "      <td>1</td>\n",
              "      <td>0</td>\n",
              "      <td>7</td>\n",
              "      <td>1</td>\n",
              "    </tr>\n",
              "    <tr>\n",
              "      <th>4</th>\n",
              "      <td>65.0</td>\n",
              "      <td>1</td>\n",
              "      <td>160</td>\n",
              "      <td>1</td>\n",
              "      <td>20</td>\n",
              "      <td>0</td>\n",
              "      <td>327000.00</td>\n",
              "      <td>2.7</td>\n",
              "      <td>116</td>\n",
              "      <td>0</td>\n",
              "      <td>0</td>\n",
              "      <td>8</td>\n",
              "      <td>1</td>\n",
              "    </tr>\n",
              "  </tbody>\n",
              "</table>\n",
              "</div>"
            ],
            "text/plain": [
              "    age  anaemia  creatinine_phosphokinase  ...  smoking  time  DEATH_EVENT\n",
              "0  75.0        0                       582  ...        0     4            1\n",
              "1  55.0        0                      7861  ...        0     6            1\n",
              "2  65.0        0                       146  ...        1     7            1\n",
              "3  50.0        1                       111  ...        0     7            1\n",
              "4  65.0        1                       160  ...        0     8            1\n",
              "\n",
              "[5 rows x 13 columns]"
            ]
          },
          "metadata": {},
          "execution_count": 6
        }
      ]
    },
    {
      "cell_type": "code",
      "metadata": {
        "colab": {
          "base_uri": "https://localhost:8080/",
          "height": 206
        },
        "id": "RrKVSEG0Tk21",
        "outputId": "2787b1d3-9153-4b6b-c96b-7f78bf9e887c"
      },
      "source": [
        "# Display last five entries of data\n",
        "\n",
        "df.tail()"
      ],
      "execution_count": 7,
      "outputs": [
        {
          "output_type": "execute_result",
          "data": {
            "text/html": [
              "<div>\n",
              "<style scoped>\n",
              "    .dataframe tbody tr th:only-of-type {\n",
              "        vertical-align: middle;\n",
              "    }\n",
              "\n",
              "    .dataframe tbody tr th {\n",
              "        vertical-align: top;\n",
              "    }\n",
              "\n",
              "    .dataframe thead th {\n",
              "        text-align: right;\n",
              "    }\n",
              "</style>\n",
              "<table border=\"1\" class=\"dataframe\">\n",
              "  <thead>\n",
              "    <tr style=\"text-align: right;\">\n",
              "      <th></th>\n",
              "      <th>age</th>\n",
              "      <th>anaemia</th>\n",
              "      <th>creatinine_phosphokinase</th>\n",
              "      <th>diabetes</th>\n",
              "      <th>ejection_fraction</th>\n",
              "      <th>high_blood_pressure</th>\n",
              "      <th>platelets</th>\n",
              "      <th>serum_creatinine</th>\n",
              "      <th>serum_sodium</th>\n",
              "      <th>sex</th>\n",
              "      <th>smoking</th>\n",
              "      <th>time</th>\n",
              "      <th>DEATH_EVENT</th>\n",
              "    </tr>\n",
              "  </thead>\n",
              "  <tbody>\n",
              "    <tr>\n",
              "      <th>294</th>\n",
              "      <td>62.0</td>\n",
              "      <td>0</td>\n",
              "      <td>61</td>\n",
              "      <td>1</td>\n",
              "      <td>38</td>\n",
              "      <td>1</td>\n",
              "      <td>155000.0</td>\n",
              "      <td>1.1</td>\n",
              "      <td>143</td>\n",
              "      <td>1</td>\n",
              "      <td>1</td>\n",
              "      <td>270</td>\n",
              "      <td>0</td>\n",
              "    </tr>\n",
              "    <tr>\n",
              "      <th>295</th>\n",
              "      <td>55.0</td>\n",
              "      <td>0</td>\n",
              "      <td>1820</td>\n",
              "      <td>0</td>\n",
              "      <td>38</td>\n",
              "      <td>0</td>\n",
              "      <td>270000.0</td>\n",
              "      <td>1.2</td>\n",
              "      <td>139</td>\n",
              "      <td>0</td>\n",
              "      <td>0</td>\n",
              "      <td>271</td>\n",
              "      <td>0</td>\n",
              "    </tr>\n",
              "    <tr>\n",
              "      <th>296</th>\n",
              "      <td>45.0</td>\n",
              "      <td>0</td>\n",
              "      <td>2060</td>\n",
              "      <td>1</td>\n",
              "      <td>60</td>\n",
              "      <td>0</td>\n",
              "      <td>742000.0</td>\n",
              "      <td>0.8</td>\n",
              "      <td>138</td>\n",
              "      <td>0</td>\n",
              "      <td>0</td>\n",
              "      <td>278</td>\n",
              "      <td>0</td>\n",
              "    </tr>\n",
              "    <tr>\n",
              "      <th>297</th>\n",
              "      <td>45.0</td>\n",
              "      <td>0</td>\n",
              "      <td>2413</td>\n",
              "      <td>0</td>\n",
              "      <td>38</td>\n",
              "      <td>0</td>\n",
              "      <td>140000.0</td>\n",
              "      <td>1.4</td>\n",
              "      <td>140</td>\n",
              "      <td>1</td>\n",
              "      <td>1</td>\n",
              "      <td>280</td>\n",
              "      <td>0</td>\n",
              "    </tr>\n",
              "    <tr>\n",
              "      <th>298</th>\n",
              "      <td>50.0</td>\n",
              "      <td>0</td>\n",
              "      <td>196</td>\n",
              "      <td>0</td>\n",
              "      <td>45</td>\n",
              "      <td>0</td>\n",
              "      <td>395000.0</td>\n",
              "      <td>1.6</td>\n",
              "      <td>136</td>\n",
              "      <td>1</td>\n",
              "      <td>1</td>\n",
              "      <td>285</td>\n",
              "      <td>0</td>\n",
              "    </tr>\n",
              "  </tbody>\n",
              "</table>\n",
              "</div>"
            ],
            "text/plain": [
              "      age  anaemia  creatinine_phosphokinase  ...  smoking  time  DEATH_EVENT\n",
              "294  62.0        0                        61  ...        1   270            0\n",
              "295  55.0        0                      1820  ...        0   271            0\n",
              "296  45.0        0                      2060  ...        0   278            0\n",
              "297  45.0        0                      2413  ...        1   280            0\n",
              "298  50.0        0                       196  ...        1   285            0\n",
              "\n",
              "[5 rows x 13 columns]"
            ]
          },
          "metadata": {},
          "execution_count": 7
        }
      ]
    },
    {
      "cell_type": "code",
      "metadata": {
        "colab": {
          "base_uri": "https://localhost:8080/",
          "height": 363
        },
        "id": "Am6T3hnaTp8l",
        "outputId": "e34a75a9-adeb-470c-98fe-70ac5d56082c"
      },
      "source": [
        "# Display random numbers of data\n",
        "\n",
        "df.sample(10)"
      ],
      "execution_count": 8,
      "outputs": [
        {
          "output_type": "execute_result",
          "data": {
            "text/html": [
              "<div>\n",
              "<style scoped>\n",
              "    .dataframe tbody tr th:only-of-type {\n",
              "        vertical-align: middle;\n",
              "    }\n",
              "\n",
              "    .dataframe tbody tr th {\n",
              "        vertical-align: top;\n",
              "    }\n",
              "\n",
              "    .dataframe thead th {\n",
              "        text-align: right;\n",
              "    }\n",
              "</style>\n",
              "<table border=\"1\" class=\"dataframe\">\n",
              "  <thead>\n",
              "    <tr style=\"text-align: right;\">\n",
              "      <th></th>\n",
              "      <th>age</th>\n",
              "      <th>anaemia</th>\n",
              "      <th>creatinine_phosphokinase</th>\n",
              "      <th>diabetes</th>\n",
              "      <th>ejection_fraction</th>\n",
              "      <th>high_blood_pressure</th>\n",
              "      <th>platelets</th>\n",
              "      <th>serum_creatinine</th>\n",
              "      <th>serum_sodium</th>\n",
              "      <th>sex</th>\n",
              "      <th>smoking</th>\n",
              "      <th>time</th>\n",
              "      <th>DEATH_EVENT</th>\n",
              "    </tr>\n",
              "  </thead>\n",
              "  <tbody>\n",
              "    <tr>\n",
              "      <th>222</th>\n",
              "      <td>42.000</td>\n",
              "      <td>1</td>\n",
              "      <td>86</td>\n",
              "      <td>0</td>\n",
              "      <td>35</td>\n",
              "      <td>0</td>\n",
              "      <td>365000.00</td>\n",
              "      <td>1.10</td>\n",
              "      <td>139</td>\n",
              "      <td>1</td>\n",
              "      <td>1</td>\n",
              "      <td>201</td>\n",
              "      <td>0</td>\n",
              "    </tr>\n",
              "    <tr>\n",
              "      <th>234</th>\n",
              "      <td>53.000</td>\n",
              "      <td>1</td>\n",
              "      <td>582</td>\n",
              "      <td>0</td>\n",
              "      <td>45</td>\n",
              "      <td>0</td>\n",
              "      <td>305000.00</td>\n",
              "      <td>1.10</td>\n",
              "      <td>137</td>\n",
              "      <td>1</td>\n",
              "      <td>1</td>\n",
              "      <td>209</td>\n",
              "      <td>0</td>\n",
              "    </tr>\n",
              "    <tr>\n",
              "      <th>119</th>\n",
              "      <td>86.000</td>\n",
              "      <td>0</td>\n",
              "      <td>582</td>\n",
              "      <td>0</td>\n",
              "      <td>38</td>\n",
              "      <td>0</td>\n",
              "      <td>263358.03</td>\n",
              "      <td>1.83</td>\n",
              "      <td>134</td>\n",
              "      <td>0</td>\n",
              "      <td>0</td>\n",
              "      <td>95</td>\n",
              "      <td>1</td>\n",
              "    </tr>\n",
              "    <tr>\n",
              "      <th>143</th>\n",
              "      <td>61.000</td>\n",
              "      <td>1</td>\n",
              "      <td>84</td>\n",
              "      <td>0</td>\n",
              "      <td>40</td>\n",
              "      <td>1</td>\n",
              "      <td>229000.00</td>\n",
              "      <td>0.90</td>\n",
              "      <td>141</td>\n",
              "      <td>0</td>\n",
              "      <td>0</td>\n",
              "      <td>110</td>\n",
              "      <td>0</td>\n",
              "    </tr>\n",
              "    <tr>\n",
              "      <th>127</th>\n",
              "      <td>58.000</td>\n",
              "      <td>1</td>\n",
              "      <td>200</td>\n",
              "      <td>1</td>\n",
              "      <td>60</td>\n",
              "      <td>0</td>\n",
              "      <td>300000.00</td>\n",
              "      <td>0.80</td>\n",
              "      <td>137</td>\n",
              "      <td>0</td>\n",
              "      <td>0</td>\n",
              "      <td>104</td>\n",
              "      <td>0</td>\n",
              "    </tr>\n",
              "    <tr>\n",
              "      <th>5</th>\n",
              "      <td>90.000</td>\n",
              "      <td>1</td>\n",
              "      <td>47</td>\n",
              "      <td>0</td>\n",
              "      <td>40</td>\n",
              "      <td>1</td>\n",
              "      <td>204000.00</td>\n",
              "      <td>2.10</td>\n",
              "      <td>132</td>\n",
              "      <td>1</td>\n",
              "      <td>1</td>\n",
              "      <td>8</td>\n",
              "      <td>1</td>\n",
              "    </tr>\n",
              "    <tr>\n",
              "      <th>6</th>\n",
              "      <td>75.000</td>\n",
              "      <td>1</td>\n",
              "      <td>246</td>\n",
              "      <td>0</td>\n",
              "      <td>15</td>\n",
              "      <td>0</td>\n",
              "      <td>127000.00</td>\n",
              "      <td>1.20</td>\n",
              "      <td>137</td>\n",
              "      <td>1</td>\n",
              "      <td>0</td>\n",
              "      <td>10</td>\n",
              "      <td>1</td>\n",
              "    </tr>\n",
              "    <tr>\n",
              "      <th>19</th>\n",
              "      <td>48.000</td>\n",
              "      <td>1</td>\n",
              "      <td>582</td>\n",
              "      <td>1</td>\n",
              "      <td>55</td>\n",
              "      <td>0</td>\n",
              "      <td>87000.00</td>\n",
              "      <td>1.90</td>\n",
              "      <td>121</td>\n",
              "      <td>0</td>\n",
              "      <td>0</td>\n",
              "      <td>15</td>\n",
              "      <td>1</td>\n",
              "    </tr>\n",
              "    <tr>\n",
              "      <th>74</th>\n",
              "      <td>69.000</td>\n",
              "      <td>0</td>\n",
              "      <td>582</td>\n",
              "      <td>0</td>\n",
              "      <td>20</td>\n",
              "      <td>0</td>\n",
              "      <td>266000.00</td>\n",
              "      <td>1.20</td>\n",
              "      <td>134</td>\n",
              "      <td>1</td>\n",
              "      <td>1</td>\n",
              "      <td>73</td>\n",
              "      <td>1</td>\n",
              "    </tr>\n",
              "    <tr>\n",
              "      <th>185</th>\n",
              "      <td>60.667</td>\n",
              "      <td>1</td>\n",
              "      <td>104</td>\n",
              "      <td>1</td>\n",
              "      <td>30</td>\n",
              "      <td>0</td>\n",
              "      <td>389000.00</td>\n",
              "      <td>1.50</td>\n",
              "      <td>136</td>\n",
              "      <td>1</td>\n",
              "      <td>0</td>\n",
              "      <td>171</td>\n",
              "      <td>1</td>\n",
              "    </tr>\n",
              "  </tbody>\n",
              "</table>\n",
              "</div>"
            ],
            "text/plain": [
              "        age  anaemia  creatinine_phosphokinase  ...  smoking  time  DEATH_EVENT\n",
              "222  42.000        1                        86  ...        1   201            0\n",
              "234  53.000        1                       582  ...        1   209            0\n",
              "119  86.000        0                       582  ...        0    95            1\n",
              "143  61.000        1                        84  ...        0   110            0\n",
              "127  58.000        1                       200  ...        0   104            0\n",
              "5    90.000        1                        47  ...        1     8            1\n",
              "6    75.000        1                       246  ...        0    10            1\n",
              "19   48.000        1                       582  ...        0    15            1\n",
              "74   69.000        0                       582  ...        1    73            1\n",
              "185  60.667        1                       104  ...        0   171            1\n",
              "\n",
              "[10 rows x 13 columns]"
            ]
          },
          "metadata": {},
          "execution_count": 8
        }
      ]
    },
    {
      "cell_type": "code",
      "metadata": {
        "colab": {
          "base_uri": "https://localhost:8080/"
        },
        "id": "Na6Sa12ETufe",
        "outputId": "b65e95f9-4886-46f6-df64-1de385cba6c5"
      },
      "source": [
        "# Show the information of data to find any null value\n",
        "\n",
        "df.info()"
      ],
      "execution_count": 9,
      "outputs": [
        {
          "output_type": "stream",
          "name": "stdout",
          "text": [
            "<class 'pandas.core.frame.DataFrame'>\n",
            "RangeIndex: 299 entries, 0 to 298\n",
            "Data columns (total 13 columns):\n",
            " #   Column                    Non-Null Count  Dtype  \n",
            "---  ------                    --------------  -----  \n",
            " 0   age                       299 non-null    float64\n",
            " 1   anaemia                   299 non-null    int64  \n",
            " 2   creatinine_phosphokinase  299 non-null    int64  \n",
            " 3   diabetes                  299 non-null    int64  \n",
            " 4   ejection_fraction         299 non-null    int64  \n",
            " 5   high_blood_pressure       299 non-null    int64  \n",
            " 6   platelets                 299 non-null    float64\n",
            " 7   serum_creatinine          299 non-null    float64\n",
            " 8   serum_sodium              299 non-null    int64  \n",
            " 9   sex                       299 non-null    int64  \n",
            " 10  smoking                   299 non-null    int64  \n",
            " 11  time                      299 non-null    int64  \n",
            " 12  DEATH_EVENT               299 non-null    int64  \n",
            "dtypes: float64(3), int64(10)\n",
            "memory usage: 30.5 KB\n"
          ]
        }
      ]
    },
    {
      "cell_type": "code",
      "metadata": {
        "colab": {
          "base_uri": "https://localhost:8080/",
          "height": 300
        },
        "id": "Q4q9aGkGTxmN",
        "outputId": "2bc2b160-ec34-4e75-82e9-234cc3e84bc9"
      },
      "source": [
        "# Show the statistical summary of data\n",
        "\n",
        "df.describe()"
      ],
      "execution_count": 10,
      "outputs": [
        {
          "output_type": "execute_result",
          "data": {
            "text/html": [
              "<div>\n",
              "<style scoped>\n",
              "    .dataframe tbody tr th:only-of-type {\n",
              "        vertical-align: middle;\n",
              "    }\n",
              "\n",
              "    .dataframe tbody tr th {\n",
              "        vertical-align: top;\n",
              "    }\n",
              "\n",
              "    .dataframe thead th {\n",
              "        text-align: right;\n",
              "    }\n",
              "</style>\n",
              "<table border=\"1\" class=\"dataframe\">\n",
              "  <thead>\n",
              "    <tr style=\"text-align: right;\">\n",
              "      <th></th>\n",
              "      <th>age</th>\n",
              "      <th>anaemia</th>\n",
              "      <th>creatinine_phosphokinase</th>\n",
              "      <th>diabetes</th>\n",
              "      <th>ejection_fraction</th>\n",
              "      <th>high_blood_pressure</th>\n",
              "      <th>platelets</th>\n",
              "      <th>serum_creatinine</th>\n",
              "      <th>serum_sodium</th>\n",
              "      <th>sex</th>\n",
              "      <th>smoking</th>\n",
              "      <th>time</th>\n",
              "      <th>DEATH_EVENT</th>\n",
              "    </tr>\n",
              "  </thead>\n",
              "  <tbody>\n",
              "    <tr>\n",
              "      <th>count</th>\n",
              "      <td>299.000000</td>\n",
              "      <td>299.000000</td>\n",
              "      <td>299.000000</td>\n",
              "      <td>299.000000</td>\n",
              "      <td>299.000000</td>\n",
              "      <td>299.000000</td>\n",
              "      <td>299.000000</td>\n",
              "      <td>299.00000</td>\n",
              "      <td>299.000000</td>\n",
              "      <td>299.000000</td>\n",
              "      <td>299.00000</td>\n",
              "      <td>299.000000</td>\n",
              "      <td>299.00000</td>\n",
              "    </tr>\n",
              "    <tr>\n",
              "      <th>mean</th>\n",
              "      <td>60.833893</td>\n",
              "      <td>0.431438</td>\n",
              "      <td>581.839465</td>\n",
              "      <td>0.418060</td>\n",
              "      <td>38.083612</td>\n",
              "      <td>0.351171</td>\n",
              "      <td>263358.029264</td>\n",
              "      <td>1.39388</td>\n",
              "      <td>136.625418</td>\n",
              "      <td>0.648829</td>\n",
              "      <td>0.32107</td>\n",
              "      <td>130.260870</td>\n",
              "      <td>0.32107</td>\n",
              "    </tr>\n",
              "    <tr>\n",
              "      <th>std</th>\n",
              "      <td>11.894809</td>\n",
              "      <td>0.496107</td>\n",
              "      <td>970.287881</td>\n",
              "      <td>0.494067</td>\n",
              "      <td>11.834841</td>\n",
              "      <td>0.478136</td>\n",
              "      <td>97804.236869</td>\n",
              "      <td>1.03451</td>\n",
              "      <td>4.412477</td>\n",
              "      <td>0.478136</td>\n",
              "      <td>0.46767</td>\n",
              "      <td>77.614208</td>\n",
              "      <td>0.46767</td>\n",
              "    </tr>\n",
              "    <tr>\n",
              "      <th>min</th>\n",
              "      <td>40.000000</td>\n",
              "      <td>0.000000</td>\n",
              "      <td>23.000000</td>\n",
              "      <td>0.000000</td>\n",
              "      <td>14.000000</td>\n",
              "      <td>0.000000</td>\n",
              "      <td>25100.000000</td>\n",
              "      <td>0.50000</td>\n",
              "      <td>113.000000</td>\n",
              "      <td>0.000000</td>\n",
              "      <td>0.00000</td>\n",
              "      <td>4.000000</td>\n",
              "      <td>0.00000</td>\n",
              "    </tr>\n",
              "    <tr>\n",
              "      <th>25%</th>\n",
              "      <td>51.000000</td>\n",
              "      <td>0.000000</td>\n",
              "      <td>116.500000</td>\n",
              "      <td>0.000000</td>\n",
              "      <td>30.000000</td>\n",
              "      <td>0.000000</td>\n",
              "      <td>212500.000000</td>\n",
              "      <td>0.90000</td>\n",
              "      <td>134.000000</td>\n",
              "      <td>0.000000</td>\n",
              "      <td>0.00000</td>\n",
              "      <td>73.000000</td>\n",
              "      <td>0.00000</td>\n",
              "    </tr>\n",
              "    <tr>\n",
              "      <th>50%</th>\n",
              "      <td>60.000000</td>\n",
              "      <td>0.000000</td>\n",
              "      <td>250.000000</td>\n",
              "      <td>0.000000</td>\n",
              "      <td>38.000000</td>\n",
              "      <td>0.000000</td>\n",
              "      <td>262000.000000</td>\n",
              "      <td>1.10000</td>\n",
              "      <td>137.000000</td>\n",
              "      <td>1.000000</td>\n",
              "      <td>0.00000</td>\n",
              "      <td>115.000000</td>\n",
              "      <td>0.00000</td>\n",
              "    </tr>\n",
              "    <tr>\n",
              "      <th>75%</th>\n",
              "      <td>70.000000</td>\n",
              "      <td>1.000000</td>\n",
              "      <td>582.000000</td>\n",
              "      <td>1.000000</td>\n",
              "      <td>45.000000</td>\n",
              "      <td>1.000000</td>\n",
              "      <td>303500.000000</td>\n",
              "      <td>1.40000</td>\n",
              "      <td>140.000000</td>\n",
              "      <td>1.000000</td>\n",
              "      <td>1.00000</td>\n",
              "      <td>203.000000</td>\n",
              "      <td>1.00000</td>\n",
              "    </tr>\n",
              "    <tr>\n",
              "      <th>max</th>\n",
              "      <td>95.000000</td>\n",
              "      <td>1.000000</td>\n",
              "      <td>7861.000000</td>\n",
              "      <td>1.000000</td>\n",
              "      <td>80.000000</td>\n",
              "      <td>1.000000</td>\n",
              "      <td>850000.000000</td>\n",
              "      <td>9.40000</td>\n",
              "      <td>148.000000</td>\n",
              "      <td>1.000000</td>\n",
              "      <td>1.00000</td>\n",
              "      <td>285.000000</td>\n",
              "      <td>1.00000</td>\n",
              "    </tr>\n",
              "  </tbody>\n",
              "</table>\n",
              "</div>"
            ],
            "text/plain": [
              "              age     anaemia  ...        time  DEATH_EVENT\n",
              "count  299.000000  299.000000  ...  299.000000    299.00000\n",
              "mean    60.833893    0.431438  ...  130.260870      0.32107\n",
              "std     11.894809    0.496107  ...   77.614208      0.46767\n",
              "min     40.000000    0.000000  ...    4.000000      0.00000\n",
              "25%     51.000000    0.000000  ...   73.000000      0.00000\n",
              "50%     60.000000    0.000000  ...  115.000000      0.00000\n",
              "75%     70.000000    1.000000  ...  203.000000      1.00000\n",
              "max     95.000000    1.000000  ...  285.000000      1.00000\n",
              "\n",
              "[8 rows x 13 columns]"
            ]
          },
          "metadata": {},
          "execution_count": 10
        }
      ]
    },
    {
      "cell_type": "code",
      "metadata": {
        "colab": {
          "base_uri": "https://localhost:8080/"
        },
        "id": "CWzWJ8SBT0j1",
        "outputId": "ca4651a1-cc1c-4a11-dd0e-228485d8df95"
      },
      "source": [
        "# Show the value of taget column\n",
        "\n",
        "df['DEATH_EVENT'].value_counts()"
      ],
      "execution_count": 11,
      "outputs": [
        {
          "output_type": "execute_result",
          "data": {
            "text/plain": [
              "0    203\n",
              "1     96\n",
              "Name: DEATH_EVENT, dtype: int64"
            ]
          },
          "metadata": {},
          "execution_count": 11
        }
      ]
    },
    {
      "cell_type": "code",
      "metadata": {
        "colab": {
          "base_uri": "https://localhost:8080/",
          "height": 457
        },
        "id": "aQNygTiiUFUm",
        "outputId": "75f2d2f2-e075-416e-b491-df1e4d73bb23"
      },
      "source": [
        "# Show correlation between columns\n",
        "\n",
        "df.corr()"
      ],
      "execution_count": 12,
      "outputs": [
        {
          "output_type": "execute_result",
          "data": {
            "text/html": [
              "<div>\n",
              "<style scoped>\n",
              "    .dataframe tbody tr th:only-of-type {\n",
              "        vertical-align: middle;\n",
              "    }\n",
              "\n",
              "    .dataframe tbody tr th {\n",
              "        vertical-align: top;\n",
              "    }\n",
              "\n",
              "    .dataframe thead th {\n",
              "        text-align: right;\n",
              "    }\n",
              "</style>\n",
              "<table border=\"1\" class=\"dataframe\">\n",
              "  <thead>\n",
              "    <tr style=\"text-align: right;\">\n",
              "      <th></th>\n",
              "      <th>age</th>\n",
              "      <th>anaemia</th>\n",
              "      <th>creatinine_phosphokinase</th>\n",
              "      <th>diabetes</th>\n",
              "      <th>ejection_fraction</th>\n",
              "      <th>high_blood_pressure</th>\n",
              "      <th>platelets</th>\n",
              "      <th>serum_creatinine</th>\n",
              "      <th>serum_sodium</th>\n",
              "      <th>sex</th>\n",
              "      <th>smoking</th>\n",
              "      <th>time</th>\n",
              "      <th>DEATH_EVENT</th>\n",
              "    </tr>\n",
              "  </thead>\n",
              "  <tbody>\n",
              "    <tr>\n",
              "      <th>age</th>\n",
              "      <td>1.000000</td>\n",
              "      <td>0.088006</td>\n",
              "      <td>-0.081584</td>\n",
              "      <td>-0.101012</td>\n",
              "      <td>0.060098</td>\n",
              "      <td>0.093289</td>\n",
              "      <td>-0.052354</td>\n",
              "      <td>0.159187</td>\n",
              "      <td>-0.045966</td>\n",
              "      <td>0.065430</td>\n",
              "      <td>0.018668</td>\n",
              "      <td>-0.224068</td>\n",
              "      <td>0.253729</td>\n",
              "    </tr>\n",
              "    <tr>\n",
              "      <th>anaemia</th>\n",
              "      <td>0.088006</td>\n",
              "      <td>1.000000</td>\n",
              "      <td>-0.190741</td>\n",
              "      <td>-0.012729</td>\n",
              "      <td>0.031557</td>\n",
              "      <td>0.038182</td>\n",
              "      <td>-0.043786</td>\n",
              "      <td>0.052174</td>\n",
              "      <td>0.041882</td>\n",
              "      <td>-0.094769</td>\n",
              "      <td>-0.107290</td>\n",
              "      <td>-0.141414</td>\n",
              "      <td>0.066270</td>\n",
              "    </tr>\n",
              "    <tr>\n",
              "      <th>creatinine_phosphokinase</th>\n",
              "      <td>-0.081584</td>\n",
              "      <td>-0.190741</td>\n",
              "      <td>1.000000</td>\n",
              "      <td>-0.009639</td>\n",
              "      <td>-0.044080</td>\n",
              "      <td>-0.070590</td>\n",
              "      <td>0.024463</td>\n",
              "      <td>-0.016408</td>\n",
              "      <td>0.059550</td>\n",
              "      <td>0.079791</td>\n",
              "      <td>0.002421</td>\n",
              "      <td>-0.009346</td>\n",
              "      <td>0.062728</td>\n",
              "    </tr>\n",
              "    <tr>\n",
              "      <th>diabetes</th>\n",
              "      <td>-0.101012</td>\n",
              "      <td>-0.012729</td>\n",
              "      <td>-0.009639</td>\n",
              "      <td>1.000000</td>\n",
              "      <td>-0.004850</td>\n",
              "      <td>-0.012732</td>\n",
              "      <td>0.092193</td>\n",
              "      <td>-0.046975</td>\n",
              "      <td>-0.089551</td>\n",
              "      <td>-0.157730</td>\n",
              "      <td>-0.147173</td>\n",
              "      <td>0.033726</td>\n",
              "      <td>-0.001943</td>\n",
              "    </tr>\n",
              "    <tr>\n",
              "      <th>ejection_fraction</th>\n",
              "      <td>0.060098</td>\n",
              "      <td>0.031557</td>\n",
              "      <td>-0.044080</td>\n",
              "      <td>-0.004850</td>\n",
              "      <td>1.000000</td>\n",
              "      <td>0.024445</td>\n",
              "      <td>0.072177</td>\n",
              "      <td>-0.011302</td>\n",
              "      <td>0.175902</td>\n",
              "      <td>-0.148386</td>\n",
              "      <td>-0.067315</td>\n",
              "      <td>0.041729</td>\n",
              "      <td>-0.268603</td>\n",
              "    </tr>\n",
              "    <tr>\n",
              "      <th>high_blood_pressure</th>\n",
              "      <td>0.093289</td>\n",
              "      <td>0.038182</td>\n",
              "      <td>-0.070590</td>\n",
              "      <td>-0.012732</td>\n",
              "      <td>0.024445</td>\n",
              "      <td>1.000000</td>\n",
              "      <td>0.049963</td>\n",
              "      <td>-0.004935</td>\n",
              "      <td>0.037109</td>\n",
              "      <td>-0.104615</td>\n",
              "      <td>-0.055711</td>\n",
              "      <td>-0.196439</td>\n",
              "      <td>0.079351</td>\n",
              "    </tr>\n",
              "    <tr>\n",
              "      <th>platelets</th>\n",
              "      <td>-0.052354</td>\n",
              "      <td>-0.043786</td>\n",
              "      <td>0.024463</td>\n",
              "      <td>0.092193</td>\n",
              "      <td>0.072177</td>\n",
              "      <td>0.049963</td>\n",
              "      <td>1.000000</td>\n",
              "      <td>-0.041198</td>\n",
              "      <td>0.062125</td>\n",
              "      <td>-0.125120</td>\n",
              "      <td>0.028234</td>\n",
              "      <td>0.010514</td>\n",
              "      <td>-0.049139</td>\n",
              "    </tr>\n",
              "    <tr>\n",
              "      <th>serum_creatinine</th>\n",
              "      <td>0.159187</td>\n",
              "      <td>0.052174</td>\n",
              "      <td>-0.016408</td>\n",
              "      <td>-0.046975</td>\n",
              "      <td>-0.011302</td>\n",
              "      <td>-0.004935</td>\n",
              "      <td>-0.041198</td>\n",
              "      <td>1.000000</td>\n",
              "      <td>-0.189095</td>\n",
              "      <td>0.006970</td>\n",
              "      <td>-0.027414</td>\n",
              "      <td>-0.149315</td>\n",
              "      <td>0.294278</td>\n",
              "    </tr>\n",
              "    <tr>\n",
              "      <th>serum_sodium</th>\n",
              "      <td>-0.045966</td>\n",
              "      <td>0.041882</td>\n",
              "      <td>0.059550</td>\n",
              "      <td>-0.089551</td>\n",
              "      <td>0.175902</td>\n",
              "      <td>0.037109</td>\n",
              "      <td>0.062125</td>\n",
              "      <td>-0.189095</td>\n",
              "      <td>1.000000</td>\n",
              "      <td>-0.027566</td>\n",
              "      <td>0.004813</td>\n",
              "      <td>0.087640</td>\n",
              "      <td>-0.195204</td>\n",
              "    </tr>\n",
              "    <tr>\n",
              "      <th>sex</th>\n",
              "      <td>0.065430</td>\n",
              "      <td>-0.094769</td>\n",
              "      <td>0.079791</td>\n",
              "      <td>-0.157730</td>\n",
              "      <td>-0.148386</td>\n",
              "      <td>-0.104615</td>\n",
              "      <td>-0.125120</td>\n",
              "      <td>0.006970</td>\n",
              "      <td>-0.027566</td>\n",
              "      <td>1.000000</td>\n",
              "      <td>0.445892</td>\n",
              "      <td>-0.015608</td>\n",
              "      <td>-0.004316</td>\n",
              "    </tr>\n",
              "    <tr>\n",
              "      <th>smoking</th>\n",
              "      <td>0.018668</td>\n",
              "      <td>-0.107290</td>\n",
              "      <td>0.002421</td>\n",
              "      <td>-0.147173</td>\n",
              "      <td>-0.067315</td>\n",
              "      <td>-0.055711</td>\n",
              "      <td>0.028234</td>\n",
              "      <td>-0.027414</td>\n",
              "      <td>0.004813</td>\n",
              "      <td>0.445892</td>\n",
              "      <td>1.000000</td>\n",
              "      <td>-0.022839</td>\n",
              "      <td>-0.012623</td>\n",
              "    </tr>\n",
              "    <tr>\n",
              "      <th>time</th>\n",
              "      <td>-0.224068</td>\n",
              "      <td>-0.141414</td>\n",
              "      <td>-0.009346</td>\n",
              "      <td>0.033726</td>\n",
              "      <td>0.041729</td>\n",
              "      <td>-0.196439</td>\n",
              "      <td>0.010514</td>\n",
              "      <td>-0.149315</td>\n",
              "      <td>0.087640</td>\n",
              "      <td>-0.015608</td>\n",
              "      <td>-0.022839</td>\n",
              "      <td>1.000000</td>\n",
              "      <td>-0.526964</td>\n",
              "    </tr>\n",
              "    <tr>\n",
              "      <th>DEATH_EVENT</th>\n",
              "      <td>0.253729</td>\n",
              "      <td>0.066270</td>\n",
              "      <td>0.062728</td>\n",
              "      <td>-0.001943</td>\n",
              "      <td>-0.268603</td>\n",
              "      <td>0.079351</td>\n",
              "      <td>-0.049139</td>\n",
              "      <td>0.294278</td>\n",
              "      <td>-0.195204</td>\n",
              "      <td>-0.004316</td>\n",
              "      <td>-0.012623</td>\n",
              "      <td>-0.526964</td>\n",
              "      <td>1.000000</td>\n",
              "    </tr>\n",
              "  </tbody>\n",
              "</table>\n",
              "</div>"
            ],
            "text/plain": [
              "                               age   anaemia  ...      time  DEATH_EVENT\n",
              "age                       1.000000  0.088006  ... -0.224068     0.253729\n",
              "anaemia                   0.088006  1.000000  ... -0.141414     0.066270\n",
              "creatinine_phosphokinase -0.081584 -0.190741  ... -0.009346     0.062728\n",
              "diabetes                 -0.101012 -0.012729  ...  0.033726    -0.001943\n",
              "ejection_fraction         0.060098  0.031557  ...  0.041729    -0.268603\n",
              "high_blood_pressure       0.093289  0.038182  ... -0.196439     0.079351\n",
              "platelets                -0.052354 -0.043786  ...  0.010514    -0.049139\n",
              "serum_creatinine          0.159187  0.052174  ... -0.149315     0.294278\n",
              "serum_sodium             -0.045966  0.041882  ...  0.087640    -0.195204\n",
              "sex                       0.065430 -0.094769  ... -0.015608    -0.004316\n",
              "smoking                   0.018668 -0.107290  ... -0.022839    -0.012623\n",
              "time                     -0.224068 -0.141414  ...  1.000000    -0.526964\n",
              "DEATH_EVENT               0.253729  0.066270  ... -0.526964     1.000000\n",
              "\n",
              "[13 rows x 13 columns]"
            ]
          },
          "metadata": {},
          "execution_count": 12
        }
      ]
    },
    {
      "cell_type": "code",
      "metadata": {
        "colab": {
          "base_uri": "https://localhost:8080/",
          "height": 440
        },
        "id": "lLNGLXcVUN9G",
        "outputId": "4f4e6ffc-00ac-4535-edc9-2f35c1a40120"
      },
      "source": [
        "# Count plot of DEATH_EVENT data\n",
        "\n",
        "f, ax=plt.subplots(1,2,figsize=(10,5))\n",
        "df['DEATH_EVENT'].value_counts().plot.pie(explode=[0,0.1], autopct='%1.1f%%', ax=ax[0],shadow=True)\n",
        "ax[0].set_title('DEATH_EVENT')\n",
        "ax[0].set_ylabel('')\n",
        "sb.countplot('DEATH_EVENT', data=df, ax=ax[1])\n",
        "ax[1].set_title('DEATH_EVENT')\n",
        "N,P = df['DEATH_EVENT'].value_counts()\n",
        "print('Negative (0): ', N)\n",
        "print('Positive (0): ', P)\n",
        "plt.grid()\n",
        "plt.show()"
      ],
      "execution_count": 13,
      "outputs": [
        {
          "output_type": "stream",
          "name": "stdout",
          "text": [
            "Negative (0):  203\n",
            "Positive (0):  96\n"
          ]
        },
        {
          "output_type": "stream",
          "name": "stderr",
          "text": [
            "/usr/local/lib/python3.7/dist-packages/seaborn/_decorators.py:43: FutureWarning: Pass the following variable as a keyword arg: x. From version 0.12, the only valid positional argument will be `data`, and passing other arguments without an explicit keyword will result in an error or misinterpretation.\n",
            "  FutureWarning\n"
          ]
        },
        {
          "output_type": "display_data",
          "data": {
            "image/png": "[encoded data removed]",
            "text/plain": [
              "<Figure size 720x360 with 2 Axes>"
            ]
          },
          "metadata": {
            "needs_background": "light"
          }
        }
      ]
    },
    {
      "cell_type": "code",
      "metadata": {
        "colab": {
          "base_uri": "https://localhost:8080/",
          "height": 296
        },
        "id": "otBfHkRGUsTO",
        "outputId": "3f4c879c-4e42-42eb-994e-e90dd5c3d2df"
      },
      "source": [
        "# Visualize disease rate subjectedly sex\n",
        "\n",
        "sb.countplot(x='sex',hue='DEATH_EVENT',data=df,palette='pastel',edgecolor=sb.color_palette('dark',n_colors=1))"
      ],
      "execution_count": 14,
      "outputs": [
        {
          "output_type": "execute_result",
          "data": {
            "text/plain": [
              "<matplotlib.axes._subplots.AxesSubplot at 0x7f4d0cbc9310>"
            ]
          },
          "metadata": {},
          "execution_count": 14
        },
        {
          "output_type": "display_data",
          "data": {
            "image/png": "[encoded data removed]",
            "text/plain": [
              "<Figure size 432x288 with 1 Axes>"
            ]
          },
          "metadata": {
            "needs_background": "light"
          }
        }
      ]
    },
    {
      "cell_type": "code",
      "metadata": {
        "colab": {
          "base_uri": "https://localhost:8080/",
          "height": 607
        },
        "id": "t18vOErEU062",
        "outputId": "d349994f-d5d1-4c9a-d42b-ef39c8d911ae"
      },
      "source": [
        "# Histogram of columns\n",
        "\n",
        "df.hist(bins=20,figsize=(10,10))\n",
        "plt.show()"
      ],
      "execution_count": 15,
      "outputs": [
        {
          "output_type": "display_data",
          "data": {
            "image/png": "[encoded data removed]",
            "text/plain": [
              "<Figure size 720x720 with 16 Axes>"
            ]
          },
          "metadata": {
            "needs_background": "light"
          }
        }
      ]
    },
    {
      "cell_type": "code",
      "metadata": {
        "colab": {
          "base_uri": "https://localhost:8080/",
          "height": 716
        },
        "id": "4a9FkLrHU4-m",
        "outputId": "6a42962e-28ef-4031-df53-df45586485d2"
      },
      "source": [
        "# Correlation analysis\n",
        "\n",
        "corrmat=df.corr()\n",
        "top_corr_features = corrmat.index\n",
        "plt.figure(figsize=(10,10))\n",
        "\n",
        "#plot heat map\n",
        "g = sb.heatmap(df[top_corr_features].corr(), annot=True)"
      ],
      "execution_count": 16,
      "outputs": [
        {
          "output_type": "display_data",
          "data": {
            "image/png": "[encoded data removed]",
            "text/plain": [
              "<Figure size 720x720 with 2 Axes>"
            ]
          },
          "metadata": {
            "needs_background": "light"
          }
        }
      ]
    },
    {
      "cell_type": "code",
      "metadata": {
        "id": "Sya0XX53U_sW"
      },
      "source": [
        "target_name='DEATH_EVENT'\n",
        "\n",
        "# Separate object for target feature\n",
        "y = df[target_name]\n",
        "\n",
        "# Separate object for input feature\n",
        "x = df.drop(target_name, axis=1)"
      ],
      "execution_count": 17,
      "outputs": []
    },
    {
      "cell_type": "code",
      "metadata": {
        "colab": {
          "base_uri": "https://localhost:8080/",
          "height": 206
        },
        "id": "CCnQDY40VH9e",
        "outputId": "717e0f9e-12b0-4f82-852f-86a8e828e4b2"
      },
      "source": [
        "x.head()"
      ],
      "execution_count": 18,
      "outputs": [
        {
          "output_type": "execute_result",
          "data": {
            "text/html": [
              "<div>\n",
              "<style scoped>\n",
              "    .dataframe tbody tr th:only-of-type {\n",
              "        vertical-align: middle;\n",
              "    }\n",
              "\n",
              "    .dataframe tbody tr th {\n",
              "        vertical-align: top;\n",
              "    }\n",
              "\n",
              "    .dataframe thead th {\n",
              "        text-align: right;\n",
              "    }\n",
              "</style>\n",
              "<table border=\"1\" class=\"dataframe\">\n",
              "  <thead>\n",
              "    <tr style=\"text-align: right;\">\n",
              "      <th></th>\n",
              "      <th>age</th>\n",
              "      <th>anaemia</th>\n",
              "      <th>creatinine_phosphokinase</th>\n",
              "      <th>diabetes</th>\n",
              "      <th>ejection_fraction</th>\n",
              "      <th>high_blood_pressure</th>\n",
              "      <th>platelets</th>\n",
              "      <th>serum_creatinine</th>\n",
              "      <th>serum_sodium</th>\n",
              "      <th>sex</th>\n",
              "      <th>smoking</th>\n",
              "      <th>time</th>\n",
              "    </tr>\n",
              "  </thead>\n",
              "  <tbody>\n",
              "    <tr>\n",
              "      <th>0</th>\n",
              "      <td>75.0</td>\n",
              "      <td>0</td>\n",
              "      <td>582</td>\n",
              "      <td>0</td>\n",
              "      <td>20</td>\n",
              "      <td>1</td>\n",
              "      <td>265000.00</td>\n",
              "      <td>1.9</td>\n",
              "      <td>130</td>\n",
              "      <td>1</td>\n",
              "      <td>0</td>\n",
              "      <td>4</td>\n",
              "    </tr>\n",
              "    <tr>\n",
              "      <th>1</th>\n",
              "      <td>55.0</td>\n",
              "      <td>0</td>\n",
              "      <td>7861</td>\n",
              "      <td>0</td>\n",
              "      <td>38</td>\n",
              "      <td>0</td>\n",
              "      <td>263358.03</td>\n",
              "      <td>1.1</td>\n",
              "      <td>136</td>\n",
              "      <td>1</td>\n",
              "      <td>0</td>\n",
              "      <td>6</td>\n",
              "    </tr>\n",
              "    <tr>\n",
              "      <th>2</th>\n",
              "      <td>65.0</td>\n",
              "      <td>0</td>\n",
              "      <td>146</td>\n",
              "      <td>0</td>\n",
              "      <td>20</td>\n",
              "      <td>0</td>\n",
              "      <td>162000.00</td>\n",
              "      <td>1.3</td>\n",
              "      <td>129</td>\n",
              "      <td>1</td>\n",
              "      <td>1</td>\n",
              "      <td>7</td>\n",
              "    </tr>\n",
              "    <tr>\n",
              "      <th>3</th>\n",
              "      <td>50.0</td>\n",
              "      <td>1</td>\n",
              "      <td>111</td>\n",
              "      <td>0</td>\n",
              "      <td>20</td>\n",
              "      <td>0</td>\n",
              "      <td>210000.00</td>\n",
              "      <td>1.9</td>\n",
              "      <td>137</td>\n",
              "      <td>1</td>\n",
              "      <td>0</td>\n",
              "      <td>7</td>\n",
              "    </tr>\n",
              "    <tr>\n",
              "      <th>4</th>\n",
              "      <td>65.0</td>\n",
              "      <td>1</td>\n",
              "      <td>160</td>\n",
              "      <td>1</td>\n",
              "      <td>20</td>\n",
              "      <td>0</td>\n",
              "      <td>327000.00</td>\n",
              "      <td>2.7</td>\n",
              "      <td>116</td>\n",
              "      <td>0</td>\n",
              "      <td>0</td>\n",
              "      <td>8</td>\n",
              "    </tr>\n",
              "  </tbody>\n",
              "</table>\n",
              "</div>"
            ],
            "text/plain": [
              "    age  anaemia  creatinine_phosphokinase  ...  sex  smoking  time\n",
              "0  75.0        0                       582  ...    1        0     4\n",
              "1  55.0        0                      7861  ...    1        0     6\n",
              "2  65.0        0                       146  ...    1        1     7\n",
              "3  50.0        1                       111  ...    1        0     7\n",
              "4  65.0        1                       160  ...    0        0     8\n",
              "\n",
              "[5 rows x 12 columns]"
            ]
          },
          "metadata": {},
          "execution_count": 18
        }
      ]
    },
    {
      "cell_type": "code",
      "metadata": {
        "colab": {
          "base_uri": "https://localhost:8080/"
        },
        "id": "DhDq2uv6VLHv",
        "outputId": "07baeedc-3d90-43c9-e38a-380a44f9d440"
      },
      "source": [
        "y.head()"
      ],
      "execution_count": 19,
      "outputs": [
        {
          "output_type": "execute_result",
          "data": {
            "text/plain": [
              "0    1\n",
              "1    1\n",
              "2    1\n",
              "3    1\n",
              "4    1\n",
              "Name: DEATH_EVENT, dtype: int64"
            ]
          },
          "metadata": {},
          "execution_count": 19
        }
      ]
    },
    {
      "cell_type": "code",
      "metadata": {
        "id": "n-f-hAYDVMvQ"
      },
      "source": [
        "from sklearn.model_selection import train_test_split\n",
        "x_train, x_test, y_train, y_test = train_test_split(x, y, test_size=0.3, random_state=1)"
      ],
      "execution_count": 20,
      "outputs": []
    },
    {
      "cell_type": "code",
      "metadata": {
        "colab": {
          "base_uri": "https://localhost:8080/",
          "height": 424
        },
        "id": "fLpk2kVjVSH2",
        "outputId": "55541df1-9dfb-4329-f5bc-8608ccc9eacc"
      },
      "source": [
        "x_train"
      ],
      "execution_count": 21,
      "outputs": [
        {
          "output_type": "execute_result",
          "data": {
            "text/html": [
              "<div>\n",
              "<style scoped>\n",
              "    .dataframe tbody tr th:only-of-type {\n",
              "        vertical-align: middle;\n",
              "    }\n",
              "\n",
              "    .dataframe tbody tr th {\n",
              "        vertical-align: top;\n",
              "    }\n",
              "\n",
              "    .dataframe thead th {\n",
              "        text-align: right;\n",
              "    }\n",
              "</style>\n",
              "<table border=\"1\" class=\"dataframe\">\n",
              "  <thead>\n",
              "    <tr style=\"text-align: right;\">\n",
              "      <th></th>\n",
              "      <th>age</th>\n",
              "      <th>anaemia</th>\n",
              "      <th>creatinine_phosphokinase</th>\n",
              "      <th>diabetes</th>\n",
              "      <th>ejection_fraction</th>\n",
              "      <th>high_blood_pressure</th>\n",
              "      <th>platelets</th>\n",
              "      <th>serum_creatinine</th>\n",
              "      <th>serum_sodium</th>\n",
              "      <th>sex</th>\n",
              "      <th>smoking</th>\n",
              "      <th>time</th>\n",
              "    </tr>\n",
              "  </thead>\n",
              "  <tbody>\n",
              "    <tr>\n",
              "      <th>14</th>\n",
              "      <td>49.0</td>\n",
              "      <td>1</td>\n",
              "      <td>80</td>\n",
              "      <td>0</td>\n",
              "      <td>30</td>\n",
              "      <td>1</td>\n",
              "      <td>427000.0</td>\n",
              "      <td>1.0</td>\n",
              "      <td>138</td>\n",
              "      <td>0</td>\n",
              "      <td>0</td>\n",
              "      <td>12</td>\n",
              "    </tr>\n",
              "    <tr>\n",
              "      <th>210</th>\n",
              "      <td>70.0</td>\n",
              "      <td>0</td>\n",
              "      <td>212</td>\n",
              "      <td>1</td>\n",
              "      <td>17</td>\n",
              "      <td>1</td>\n",
              "      <td>389000.0</td>\n",
              "      <td>1.0</td>\n",
              "      <td>136</td>\n",
              "      <td>1</td>\n",
              "      <td>1</td>\n",
              "      <td>188</td>\n",
              "    </tr>\n",
              "    <tr>\n",
              "      <th>236</th>\n",
              "      <td>75.0</td>\n",
              "      <td>0</td>\n",
              "      <td>119</td>\n",
              "      <td>0</td>\n",
              "      <td>50</td>\n",
              "      <td>1</td>\n",
              "      <td>248000.0</td>\n",
              "      <td>1.1</td>\n",
              "      <td>148</td>\n",
              "      <td>1</td>\n",
              "      <td>0</td>\n",
              "      <td>209</td>\n",
              "    </tr>\n",
              "    <tr>\n",
              "      <th>44</th>\n",
              "      <td>60.0</td>\n",
              "      <td>1</td>\n",
              "      <td>588</td>\n",
              "      <td>1</td>\n",
              "      <td>60</td>\n",
              "      <td>0</td>\n",
              "      <td>194000.0</td>\n",
              "      <td>1.1</td>\n",
              "      <td>142</td>\n",
              "      <td>0</td>\n",
              "      <td>0</td>\n",
              "      <td>33</td>\n",
              "    </tr>\n",
              "    <tr>\n",
              "      <th>163</th>\n",
              "      <td>50.0</td>\n",
              "      <td>1</td>\n",
              "      <td>2334</td>\n",
              "      <td>1</td>\n",
              "      <td>35</td>\n",
              "      <td>0</td>\n",
              "      <td>75000.0</td>\n",
              "      <td>0.9</td>\n",
              "      <td>142</td>\n",
              "      <td>0</td>\n",
              "      <td>0</td>\n",
              "      <td>126</td>\n",
              "    </tr>\n",
              "    <tr>\n",
              "      <th>...</th>\n",
              "      <td>...</td>\n",
              "      <td>...</td>\n",
              "      <td>...</td>\n",
              "      <td>...</td>\n",
              "      <td>...</td>\n",
              "      <td>...</td>\n",
              "      <td>...</td>\n",
              "      <td>...</td>\n",
              "      <td>...</td>\n",
              "      <td>...</td>\n",
              "      <td>...</td>\n",
              "      <td>...</td>\n",
              "    </tr>\n",
              "    <tr>\n",
              "      <th>203</th>\n",
              "      <td>60.0</td>\n",
              "      <td>0</td>\n",
              "      <td>59</td>\n",
              "      <td>0</td>\n",
              "      <td>25</td>\n",
              "      <td>1</td>\n",
              "      <td>212000.0</td>\n",
              "      <td>3.5</td>\n",
              "      <td>136</td>\n",
              "      <td>1</td>\n",
              "      <td>1</td>\n",
              "      <td>187</td>\n",
              "    </tr>\n",
              "    <tr>\n",
              "      <th>255</th>\n",
              "      <td>52.0</td>\n",
              "      <td>1</td>\n",
              "      <td>191</td>\n",
              "      <td>1</td>\n",
              "      <td>30</td>\n",
              "      <td>1</td>\n",
              "      <td>334000.0</td>\n",
              "      <td>1.0</td>\n",
              "      <td>142</td>\n",
              "      <td>1</td>\n",
              "      <td>1</td>\n",
              "      <td>216</td>\n",
              "    </tr>\n",
              "    <tr>\n",
              "      <th>72</th>\n",
              "      <td>85.0</td>\n",
              "      <td>0</td>\n",
              "      <td>5882</td>\n",
              "      <td>0</td>\n",
              "      <td>35</td>\n",
              "      <td>0</td>\n",
              "      <td>243000.0</td>\n",
              "      <td>1.0</td>\n",
              "      <td>132</td>\n",
              "      <td>1</td>\n",
              "      <td>1</td>\n",
              "      <td>72</td>\n",
              "    </tr>\n",
              "    <tr>\n",
              "      <th>235</th>\n",
              "      <td>77.0</td>\n",
              "      <td>1</td>\n",
              "      <td>109</td>\n",
              "      <td>0</td>\n",
              "      <td>50</td>\n",
              "      <td>1</td>\n",
              "      <td>406000.0</td>\n",
              "      <td>1.1</td>\n",
              "      <td>137</td>\n",
              "      <td>1</td>\n",
              "      <td>0</td>\n",
              "      <td>209</td>\n",
              "    </tr>\n",
              "    <tr>\n",
              "      <th>37</th>\n",
              "      <td>82.0</td>\n",
              "      <td>1</td>\n",
              "      <td>855</td>\n",
              "      <td>1</td>\n",
              "      <td>50</td>\n",
              "      <td>1</td>\n",
              "      <td>321000.0</td>\n",
              "      <td>1.0</td>\n",
              "      <td>145</td>\n",
              "      <td>0</td>\n",
              "      <td>0</td>\n",
              "      <td>30</td>\n",
              "    </tr>\n",
              "  </tbody>\n",
              "</table>\n",
              "<p>209 rows × 12 columns</p>\n",
              "</div>"
            ],
            "text/plain": [
              "      age  anaemia  creatinine_phosphokinase  ...  sex  smoking  time\n",
              "14   49.0        1                        80  ...    0        0    12\n",
              "210  70.0        0                       212  ...    1        1   188\n",
              "236  75.0        0                       119  ...    1        0   209\n",
              "44   60.0        1                       588  ...    0        0    33\n",
              "163  50.0        1                      2334  ...    0        0   126\n",
              "..    ...      ...                       ...  ...  ...      ...   ...\n",
              "203  60.0        0                        59  ...    1        1   187\n",
              "255  52.0        1                       191  ...    1        1   216\n",
              "72   85.0        0                      5882  ...    1        1    72\n",
              "235  77.0        1                       109  ...    1        0   209\n",
              "37   82.0        1                       855  ...    0        0    30\n",
              "\n",
              "[209 rows x 12 columns]"
            ]
          },
          "metadata": {},
          "execution_count": 21
        }
      ]
    },
    {
      "cell_type": "code",
      "metadata": {
        "colab": {
          "base_uri": "https://localhost:8080/"
        },
        "id": "R_xGLXpLVU52",
        "outputId": "5a3f4ef0-b0d2-4ab4-ea52-87d4a51e8e8c"
      },
      "source": [
        "y_train"
      ],
      "execution_count": 22,
      "outputs": [
        {
          "output_type": "execute_result",
          "data": {
            "text/plain": [
              "14     0\n",
              "210    0\n",
              "236    0\n",
              "44     1\n",
              "163    1\n",
              "      ..\n",
              "203    0\n",
              "255    0\n",
              "72     1\n",
              "235    0\n",
              "37     1\n",
              "Name: DEATH_EVENT, Length: 209, dtype: int64"
            ]
          },
          "metadata": {},
          "execution_count": 22
        }
      ]
    },
    {
      "cell_type": "code",
      "metadata": {
        "colab": {
          "base_uri": "https://localhost:8080/",
          "height": 424
        },
        "id": "W163h6ZWVXfG",
        "outputId": "2fbea6cf-3cc6-4242-9eae-ad55febb2663"
      },
      "source": [
        "x_test"
      ],
      "execution_count": 23,
      "outputs": [
        {
          "output_type": "execute_result",
          "data": {
            "text/html": [
              "<div>\n",
              "<style scoped>\n",
              "    .dataframe tbody tr th:only-of-type {\n",
              "        vertical-align: middle;\n",
              "    }\n",
              "\n",
              "    .dataframe tbody tr th {\n",
              "        vertical-align: top;\n",
              "    }\n",
              "\n",
              "    .dataframe thead th {\n",
              "        text-align: right;\n",
              "    }\n",
              "</style>\n",
              "<table border=\"1\" class=\"dataframe\">\n",
              "  <thead>\n",
              "    <tr style=\"text-align: right;\">\n",
              "      <th></th>\n",
              "      <th>age</th>\n",
              "      <th>anaemia</th>\n",
              "      <th>creatinine_phosphokinase</th>\n",
              "      <th>diabetes</th>\n",
              "      <th>ejection_fraction</th>\n",
              "      <th>high_blood_pressure</th>\n",
              "      <th>platelets</th>\n",
              "      <th>serum_creatinine</th>\n",
              "      <th>serum_sodium</th>\n",
              "      <th>sex</th>\n",
              "      <th>smoking</th>\n",
              "      <th>time</th>\n",
              "    </tr>\n",
              "  </thead>\n",
              "  <tbody>\n",
              "    <tr>\n",
              "      <th>173</th>\n",
              "      <td>50.0</td>\n",
              "      <td>1</td>\n",
              "      <td>115</td>\n",
              "      <td>0</td>\n",
              "      <td>20</td>\n",
              "      <td>0</td>\n",
              "      <td>189000.0</td>\n",
              "      <td>0.80</td>\n",
              "      <td>139</td>\n",
              "      <td>1</td>\n",
              "      <td>0</td>\n",
              "      <td>146</td>\n",
              "    </tr>\n",
              "    <tr>\n",
              "      <th>287</th>\n",
              "      <td>45.0</td>\n",
              "      <td>0</td>\n",
              "      <td>582</td>\n",
              "      <td>1</td>\n",
              "      <td>55</td>\n",
              "      <td>0</td>\n",
              "      <td>543000.0</td>\n",
              "      <td>1.00</td>\n",
              "      <td>132</td>\n",
              "      <td>0</td>\n",
              "      <td>0</td>\n",
              "      <td>250</td>\n",
              "    </tr>\n",
              "    <tr>\n",
              "      <th>51</th>\n",
              "      <td>53.0</td>\n",
              "      <td>1</td>\n",
              "      <td>91</td>\n",
              "      <td>0</td>\n",
              "      <td>20</td>\n",
              "      <td>1</td>\n",
              "      <td>418000.0</td>\n",
              "      <td>1.40</td>\n",
              "      <td>139</td>\n",
              "      <td>0</td>\n",
              "      <td>0</td>\n",
              "      <td>43</td>\n",
              "    </tr>\n",
              "    <tr>\n",
              "      <th>146</th>\n",
              "      <td>52.0</td>\n",
              "      <td>0</td>\n",
              "      <td>132</td>\n",
              "      <td>0</td>\n",
              "      <td>30</td>\n",
              "      <td>0</td>\n",
              "      <td>218000.0</td>\n",
              "      <td>0.70</td>\n",
              "      <td>136</td>\n",
              "      <td>1</td>\n",
              "      <td>1</td>\n",
              "      <td>112</td>\n",
              "    </tr>\n",
              "    <tr>\n",
              "      <th>214</th>\n",
              "      <td>65.0</td>\n",
              "      <td>1</td>\n",
              "      <td>135</td>\n",
              "      <td>0</td>\n",
              "      <td>35</td>\n",
              "      <td>1</td>\n",
              "      <td>290000.0</td>\n",
              "      <td>0.80</td>\n",
              "      <td>134</td>\n",
              "      <td>1</td>\n",
              "      <td>0</td>\n",
              "      <td>194</td>\n",
              "    </tr>\n",
              "    <tr>\n",
              "      <th>...</th>\n",
              "      <td>...</td>\n",
              "      <td>...</td>\n",
              "      <td>...</td>\n",
              "      <td>...</td>\n",
              "      <td>...</td>\n",
              "      <td>...</td>\n",
              "      <td>...</td>\n",
              "      <td>...</td>\n",
              "      <td>...</td>\n",
              "      <td>...</td>\n",
              "      <td>...</td>\n",
              "      <td>...</td>\n",
              "    </tr>\n",
              "    <tr>\n",
              "      <th>122</th>\n",
              "      <td>60.0</td>\n",
              "      <td>0</td>\n",
              "      <td>96</td>\n",
              "      <td>1</td>\n",
              "      <td>38</td>\n",
              "      <td>0</td>\n",
              "      <td>228000.0</td>\n",
              "      <td>0.75</td>\n",
              "      <td>140</td>\n",
              "      <td>0</td>\n",
              "      <td>0</td>\n",
              "      <td>95</td>\n",
              "    </tr>\n",
              "    <tr>\n",
              "      <th>246</th>\n",
              "      <td>55.0</td>\n",
              "      <td>0</td>\n",
              "      <td>2017</td>\n",
              "      <td>0</td>\n",
              "      <td>25</td>\n",
              "      <td>0</td>\n",
              "      <td>314000.0</td>\n",
              "      <td>1.10</td>\n",
              "      <td>138</td>\n",
              "      <td>1</td>\n",
              "      <td>0</td>\n",
              "      <td>214</td>\n",
              "    </tr>\n",
              "    <tr>\n",
              "      <th>278</th>\n",
              "      <td>50.0</td>\n",
              "      <td>1</td>\n",
              "      <td>1051</td>\n",
              "      <td>1</td>\n",
              "      <td>30</td>\n",
              "      <td>0</td>\n",
              "      <td>232000.0</td>\n",
              "      <td>0.70</td>\n",
              "      <td>136</td>\n",
              "      <td>0</td>\n",
              "      <td>0</td>\n",
              "      <td>246</td>\n",
              "    </tr>\n",
              "    <tr>\n",
              "      <th>251</th>\n",
              "      <td>55.0</td>\n",
              "      <td>0</td>\n",
              "      <td>572</td>\n",
              "      <td>1</td>\n",
              "      <td>35</td>\n",
              "      <td>0</td>\n",
              "      <td>231000.0</td>\n",
              "      <td>0.80</td>\n",
              "      <td>143</td>\n",
              "      <td>0</td>\n",
              "      <td>0</td>\n",
              "      <td>215</td>\n",
              "    </tr>\n",
              "    <tr>\n",
              "      <th>19</th>\n",
              "      <td>48.0</td>\n",
              "      <td>1</td>\n",
              "      <td>582</td>\n",
              "      <td>1</td>\n",
              "      <td>55</td>\n",
              "      <td>0</td>\n",
              "      <td>87000.0</td>\n",
              "      <td>1.90</td>\n",
              "      <td>121</td>\n",
              "      <td>0</td>\n",
              "      <td>0</td>\n",
              "      <td>15</td>\n",
              "    </tr>\n",
              "  </tbody>\n",
              "</table>\n",
              "<p>90 rows × 12 columns</p>\n",
              "</div>"
            ],
            "text/plain": [
              "      age  anaemia  creatinine_phosphokinase  ...  sex  smoking  time\n",
              "173  50.0        1                       115  ...    1        0   146\n",
              "287  45.0        0                       582  ...    0        0   250\n",
              "51   53.0        1                        91  ...    0        0    43\n",
              "146  52.0        0                       132  ...    1        1   112\n",
              "214  65.0        1                       135  ...    1        0   194\n",
              "..    ...      ...                       ...  ...  ...      ...   ...\n",
              "122  60.0        0                        96  ...    0        0    95\n",
              "246  55.0        0                      2017  ...    1        0   214\n",
              "278  50.0        1                      1051  ...    0        0   246\n",
              "251  55.0        0                       572  ...    0        0   215\n",
              "19   48.0        1                       582  ...    0        0    15\n",
              "\n",
              "[90 rows x 12 columns]"
            ]
          },
          "metadata": {},
          "execution_count": 23
        }
      ]
    },
    {
      "cell_type": "code",
      "metadata": {
        "colab": {
          "base_uri": "https://localhost:8080/"
        },
        "id": "hFL0rz4MVZr2",
        "outputId": "318a7f26-40d4-40dd-cca1-5d67e4246650"
      },
      "source": [
        "y_test"
      ],
      "execution_count": 24,
      "outputs": [
        {
          "output_type": "execute_result",
          "data": {
            "text/plain": [
              "173    0\n",
              "287    0\n",
              "51     1\n",
              "146    0\n",
              "214    0\n",
              "      ..\n",
              "122    0\n",
              "246    1\n",
              "278    0\n",
              "251    0\n",
              "19     1\n",
              "Name: DEATH_EVENT, Length: 90, dtype: int64"
            ]
          },
          "metadata": {},
          "execution_count": 24
        }
      ]
    },
    {
      "cell_type": "markdown",
      "metadata": {
        "id": "x6IWdAAcVffm"
      },
      "source": [
        "Random Forest"
      ]
    },
    {
      "cell_type": "code",
      "metadata": {
        "colab": {
          "base_uri": "https://localhost:8080/"
        },
        "id": "icHf1_dkVbVO",
        "outputId": "19d32f0e-f53d-454e-df19-83376a5daa32"
      },
      "source": [
        "from sklearn. ensemble import RandomForestClassifier\n",
        "rf = RandomForestClassifier()\n",
        "rf.fit(x_train, y_train)"
      ],
      "execution_count": 25,
      "outputs": [
        {
          "output_type": "execute_result",
          "data": {
            "text/plain": [
              "RandomForestClassifier()"
            ]
          },
          "metadata": {},
          "execution_count": 25
        }
      ]
    },
    {
      "cell_type": "code",
      "metadata": {
        "colab": {
          "base_uri": "https://localhost:8080/"
        },
        "id": "5kaS-dk6VnEW",
        "outputId": "a57d91ca-e24c-4762-c864-5e0a84f99905"
      },
      "source": [
        "print(\"Train Accuracy of Random Forest Algorithm \", rf.score(x_train,y_train)*100)\n",
        "print(\"Test Accuracy score of Random Forest Algorithm \", rf.score(x_test,y_test)*100)"
      ],
      "execution_count": 26,
      "outputs": [
        {
          "output_type": "stream",
          "name": "stdout",
          "text": [
            "Train Accuracy of Random Forest Algorithm  100.0\n",
            "Test Accuracy score of Random Forest Algorithm  91.11111111111111\n"
          ]
        }
      ]
    },
    {
      "cell_type": "markdown",
      "metadata": {
        "id": "EwaNzZtVVw5e"
      },
      "source": [
        "Decision Tree"
      ]
    },
    {
      "cell_type": "code",
      "metadata": {
        "colab": {
          "base_uri": "https://localhost:8080/"
        },
        "id": "j2A2dEGmVqXl",
        "outputId": "4acf0f06-6051-4652-d235-eac966d4c52e"
      },
      "source": [
        "from sklearn.tree import DecisionTreeClassifier\n",
        "dt = DecisionTreeClassifier()\n",
        "dt.fit(x_train, y_train)"
      ],
      "execution_count": 27,
      "outputs": [
        {
          "output_type": "execute_result",
          "data": {
            "text/plain": [
              "DecisionTreeClassifier()"
            ]
          },
          "metadata": {},
          "execution_count": 27
        }
      ]
    },
    {
      "cell_type": "code",
      "metadata": {
        "colab": {
          "base_uri": "https://localhost:8080/"
        },
        "id": "P_QHyZtrV0UO",
        "outputId": "877f8c04-c690-4685-a83d-70c8a1dbfdeb"
      },
      "source": [
        "print(\"Train Accuracy of Decision Tree Algorithm \", dt.score(x_train,y_train)*100)\n",
        "print(\"Test Accuracy score of Decision Tree Algorithm \", dt.score(x_test,y_test)*100)"
      ],
      "execution_count": 28,
      "outputs": [
        {
          "output_type": "stream",
          "name": "stdout",
          "text": [
            "Train Accuracy of Decision Tree Algorithm  100.0\n",
            "Test Accuracy score of Decision Tree Algorithm  78.88888888888889\n"
          ]
        }
      ]
    },
    {
      "cell_type": "markdown",
      "metadata": {
        "id": "YD_zgeO-WAlO"
      },
      "source": [
        "Logistic Regression Algorithm"
      ]
    },
    {
      "cell_type": "code",
      "metadata": {
        "colab": {
          "base_uri": "https://localhost:8080/"
        },
        "id": "bDcm5SbEV3ye",
        "outputId": "3dd4354c-69eb-4333-d71b-06d6a7df0fb5"
      },
      "source": [
        "from sklearn.linear_model import LogisticRegression\n",
        "lr = LogisticRegression(solver='liblinear', multi_class='ovr')\n",
        "lr.fit(x_train, y_train)"
      ],
      "execution_count": 30,
      "outputs": [
        {
          "output_type": "execute_result",
          "data": {
            "text/plain": [
              "LogisticRegression(multi_class='ovr', solver='liblinear')"
            ]
          },
          "metadata": {},
          "execution_count": 30
        }
      ]
    },
    {
      "cell_type": "code",
      "metadata": {
        "colab": {
          "base_uri": "https://localhost:8080/"
        },
        "id": "KaujiHWHWEmF",
        "outputId": "7a4294bd-41f3-4731-9a51-780708e70413"
      },
      "source": [
        "print(\"Train Accuracy of Logistic Regression \", lr.score(x_train,y_train)*100)\n",
        "print(\"Test Accuracy score of Logistic Regression \", lr.score(x_test,y_test)*100)"
      ],
      "execution_count": 31,
      "outputs": [
        {
          "output_type": "stream",
          "name": "stdout",
          "text": [
            "Train Accuracy of Logistic Regression  81.3397129186603\n",
            "Test Accuracy score of Logistic Regression  82.22222222222221\n"
          ]
        }
      ]
    },
    {
      "cell_type": "markdown",
      "metadata": {
        "id": "Ink3MaZ2WLAC"
      },
      "source": [
        "KNN"
      ]
    },
    {
      "cell_type": "code",
      "metadata": {
        "colab": {
          "base_uri": "https://localhost:8080/"
        },
        "id": "o1DxQeguWHTW",
        "outputId": "47b59349-fb26-4dae-ceaa-3bfe2e99c7bd"
      },
      "source": [
        "from sklearn.neighbors import KNeighborsClassifier\n",
        "knn = KNeighborsClassifier()\n",
        "knn.fit(x_train, y_train)"
      ],
      "execution_count": 32,
      "outputs": [
        {
          "output_type": "execute_result",
          "data": {
            "text/plain": [
              "KNeighborsClassifier()"
            ]
          },
          "metadata": {},
          "execution_count": 32
        }
      ]
    },
    {
      "cell_type": "code",
      "metadata": {
        "colab": {
          "base_uri": "https://localhost:8080/"
        },
        "id": "iTQ-OgmQWNyu",
        "outputId": "278f775f-4442-4cbc-eb6e-04870daef58d"
      },
      "source": [
        "print(\"Train Accuracy of KNN Algorithm \", knn.score(x_train,y_train)*100)\n",
        "print(\"Test Accuracy score of KNN Algorithm \", knn.score(x_test,y_test)*100)"
      ],
      "execution_count": 33,
      "outputs": [
        {
          "output_type": "stream",
          "name": "stdout",
          "text": [
            "Train Accuracy of KNN Algorithm  74.64114832535886\n",
            "Test Accuracy score of KNN Algorithm  61.111111111111114\n"
          ]
        }
      ]
    },
    {
      "cell_type": "markdown",
      "metadata": {
        "id": "LiJ3k_ARWTeW"
      },
      "source": [
        "Naive-Bayes Algorithm"
      ]
    },
    {
      "cell_type": "code",
      "metadata": {
        "colab": {
          "base_uri": "https://localhost:8080/"
        },
        "id": "cPzd7o2gWP-2",
        "outputId": "8ae51548-51ea-4018-ea35-6ff3b1ca22fd"
      },
      "source": [
        "from sklearn.naive_bayes import GaussianNB\n",
        "nb = GaussianNB()\n",
        "nb.fit(x_train, y_train)"
      ],
      "execution_count": 34,
      "outputs": [
        {
          "output_type": "execute_result",
          "data": {
            "text/plain": [
              "GaussianNB()"
            ]
          },
          "metadata": {},
          "execution_count": 34
        }
      ]
    },
    {
      "cell_type": "code",
      "metadata": {
        "colab": {
          "base_uri": "https://localhost:8080/"
        },
        "id": "KT29Q5TAWV-u",
        "outputId": "09fb5dee-212d-4a7c-d102-dee713e33103"
      },
      "source": [
        "print(\"Train Accuracy of Naive-Bayes Algorithm \", nb.score(x_train,y_train)*100)\n",
        "print(\"Test Accuracy score of Naive-Bayes Algorithm \", nb.score(x_test,y_test)*100)"
      ],
      "execution_count": 35,
      "outputs": [
        {
          "output_type": "stream",
          "name": "stdout",
          "text": [
            "Train Accuracy of Naive-Bayes Algorithm  80.38277511961722\n",
            "Test Accuracy score of Naive-Bayes Algorithm  84.44444444444444\n"
          ]
        }
      ]
    },
    {
      "cell_type": "markdown",
      "metadata": {
        "id": "bUBou-JfWb52"
      },
      "source": [
        "Predicting Outcome"
      ]
    },
    {
      "cell_type": "code",
      "metadata": {
        "id": "dj7JPPT8WYAG"
      },
      "source": [
        "# Prediction on test using random forest\n",
        "\n",
        "rf_pred = rf.predict(x_test)"
      ],
      "execution_count": 36,
      "outputs": []
    },
    {
      "cell_type": "code",
      "metadata": {
        "id": "Y1XES-rUWeCn"
      },
      "source": [
        "# Prediction on test using decision tree\n",
        "\n",
        "dt_pred = dt.predict(x_test)"
      ],
      "execution_count": 37,
      "outputs": []
    },
    {
      "cell_type": "code",
      "metadata": {
        "id": "5fr-UJ2MWfzW"
      },
      "source": [
        "# Prediction on test using logistic regression\n",
        "\n",
        "lr_pred = lr.predict(x_test)"
      ],
      "execution_count": 38,
      "outputs": []
    },
    {
      "cell_type": "code",
      "metadata": {
        "id": "oyL931ltWhh2"
      },
      "source": [
        "# Prediction on test using KNN\n",
        "\n",
        "knn_pred = knn.predict(x_test)"
      ],
      "execution_count": 39,
      "outputs": []
    },
    {
      "cell_type": "code",
      "metadata": {
        "id": "z-3Mv911WjZO"
      },
      "source": [
        "# Prediction on test using naive bayes\n",
        "\n",
        "nb_pred = nb.predict(x_test)"
      ],
      "execution_count": 40,
      "outputs": []
    },
    {
      "cell_type": "markdown",
      "metadata": {
        "id": "tnZt-_Z-WoY3"
      },
      "source": [
        "# Confusion Matrix"
      ]
    },
    {
      "cell_type": "markdown",
      "metadata": {
        "id": "PHdni4uDWsdQ"
      },
      "source": [
        "Random Forest"
      ]
    },
    {
      "cell_type": "code",
      "metadata": {
        "colab": {
          "base_uri": "https://localhost:8080/"
        },
        "id": "sZSxywUzWlHR",
        "outputId": "8be258ab-96c4-4a08-ce52-5a190e2ed13c"
      },
      "source": [
        "from sklearn.metrics import classification_report, confusion_matrix\n",
        "from sklearn.metrics import accuracy_score, roc_auc_score, roc_curve\n",
        "cm = confusion_matrix(y_test, rf_pred)\n",
        "\n",
        "print('TN {}'.format(cm[0,0]))\n",
        "print('FP {}'.format(cm[0,1]))\n",
        "print('FN {}'.format(cm[1,0]))\n",
        "print('TP {}'.format(cm[1,1]))\n",
        "print('Accuracy rate {}'.format(np.divide(np.sum([cm[0,0], cm[1,1]]), np.sum(cm))*100))\n",
        "print('Misclassification rate {}'.format(np.divide(np.sum([cm[0,1], cm[1,0]]), np.sum(cm))*100))"
      ],
      "execution_count": 41,
      "outputs": [
        {
          "output_type": "stream",
          "name": "stdout",
          "text": [
            "TN 62\n",
            "FP 2\n",
            "FN 6\n",
            "TP 20\n",
            "Accuracy rate 91.11111111111111\n",
            "Misclassification rate 8.88888888888889\n"
          ]
        }
      ]
    },
    {
      "cell_type": "code",
      "metadata": {
        "colab": {
          "base_uri": "https://localhost:8080/",
          "height": 282
        },
        "id": "KoU2PWKOWy2W",
        "outputId": "20984d09-70e6-47ad-df00-c042e95f4466"
      },
      "source": [
        "sb.heatmap(confusion_matrix(y_test, rf_pred), annot=True,fmt=\"d\")"
      ],
      "execution_count": 42,
      "outputs": [
        {
          "output_type": "execute_result",
          "data": {
            "text/plain": [
              "<matplotlib.axes._subplots.AxesSubplot at 0x7f4d0b983f10>"
            ]
          },
          "metadata": {},
          "execution_count": 42
        },
        {
          "output_type": "display_data",
          "data": {
            "image/png": "[encoded data removed]",
            "text/plain": [
              "<Figure size 432x288 with 2 Axes>"
            ]
          },
          "metadata": {
            "needs_background": "light"
          }
        }
      ]
    },
    {
      "cell_type": "markdown",
      "metadata": {
        "id": "QPP1Z5AqW9xX"
      },
      "source": [
        "Decision Tree Algorithm"
      ]
    },
    {
      "cell_type": "code",
      "metadata": {
        "colab": {
          "base_uri": "https://localhost:8080/"
        },
        "id": "e39sHT1rW6FH",
        "outputId": "27ddaead-b07d-448e-a0ff-8acfbca92614"
      },
      "source": [
        "from sklearn.metrics import classification_report, confusion_matrix\n",
        "from sklearn.metrics import accuracy_score, roc_auc_score, roc_curve\n",
        "cm = confusion_matrix(y_test, dt_pred)\n",
        "\n",
        "print('TN {}'.format(cm[0,0]))\n",
        "print('FP {}'.format(cm[0,1]))\n",
        "print('FN {}'.format(cm[1,0]))\n",
        "print('TP {}'.format(cm[1,1]))\n",
        "print('Accuracy rate {}'.format(np.divide(np.sum([cm[0,0], cm[1,1]]), np.sum(cm))*100))\n",
        "print('Misclassification rate {}'.format(np.divide(np.sum([cm[0,1], cm[1,0]]), np.sum(cm))*100))"
      ],
      "execution_count": 43,
      "outputs": [
        {
          "output_type": "stream",
          "name": "stdout",
          "text": [
            "TN 56\n",
            "FP 8\n",
            "FN 11\n",
            "TP 15\n",
            "Accuracy rate 78.88888888888889\n",
            "Misclassification rate 21.11111111111111\n"
          ]
        }
      ]
    },
    {
      "cell_type": "code",
      "metadata": {
        "colab": {
          "base_uri": "https://localhost:8080/",
          "height": 282
        },
        "id": "b2FAixylXA1H",
        "outputId": "097023c6-5e2c-4dc0-a94e-4d81c4bcde6c"
      },
      "source": [
        "sb.heatmap(confusion_matrix(y_test, dt_pred), annot=True,fmt=\"d\")"
      ],
      "execution_count": 44,
      "outputs": [
        {
          "output_type": "execute_result",
          "data": {
            "text/plain": [
              "<matplotlib.axes._subplots.AxesSubplot at 0x7f4d0ba91190>"
            ]
          },
          "metadata": {},
          "execution_count": 44
        },
        {
          "output_type": "display_data",
          "data": {
            "image/png": "[encoded data removed]",
            "text/plain": [
              "<Figure size 432x288 with 2 Axes>"
            ]
          },
          "metadata": {
            "needs_background": "light"
          }
        }
      ]
    },
    {
      "cell_type": "markdown",
      "metadata": {
        "id": "04du2ssGXGqg"
      },
      "source": [
        "Logistic Regretion Algorithm"
      ]
    },
    {
      "cell_type": "code",
      "metadata": {
        "colab": {
          "base_uri": "https://localhost:8080/"
        },
        "id": "Wcky3JIOXDie",
        "outputId": "632f0871-4284-4fd1-f259-d3c887e4c7ab"
      },
      "source": [
        "from sklearn.metrics import classification_report, confusion_matrix\n",
        "from sklearn.metrics import accuracy_score, roc_auc_score, roc_curve\n",
        "cm = confusion_matrix(y_test, lr_pred)\n",
        "\n",
        "print('TN {}'.format(cm[0,0]))\n",
        "print('FP {}'.format(cm[0,1]))\n",
        "print('FN {}'.format(cm[1,0]))\n",
        "print('TP {}'.format(cm[1,1]))\n",
        "print('Accuracy rate {}'.format(np.divide(np.sum([cm[0,0], cm[1,1]]), np.sum(cm))*100))\n",
        "print('Misclassification rate {}'.format(np.divide(np.sum([cm[0,1], cm[1,0]]), np.sum(cm))*100))"
      ],
      "execution_count": 45,
      "outputs": [
        {
          "output_type": "stream",
          "name": "stdout",
          "text": [
            "TN 57\n",
            "FP 7\n",
            "FN 9\n",
            "TP 17\n",
            "Accuracy rate 82.22222222222221\n",
            "Misclassification rate 17.77777777777778\n"
          ]
        }
      ]
    },
    {
      "cell_type": "code",
      "metadata": {
        "colab": {
          "base_uri": "https://localhost:8080/",
          "height": 282
        },
        "id": "zvyjFqhmXIvX",
        "outputId": "1e57a230-908a-4426-90ff-e910662551e6"
      },
      "source": [
        "sb.heatmap(confusion_matrix(y_test, lr_pred), annot=True,fmt=\"d\")"
      ],
      "execution_count": 46,
      "outputs": [
        {
          "output_type": "execute_result",
          "data": {
            "text/plain": [
              "<matplotlib.axes._subplots.AxesSubplot at 0x7f4d0b7edbd0>"
            ]
          },
          "metadata": {},
          "execution_count": 46
        },
        {
          "output_type": "display_data",
          "data": {
            "image/png": "[encoded data removed]",
            "text/plain": [
              "<Figure size 432x288 with 2 Axes>"
            ]
          },
          "metadata": {
            "needs_background": "light"
          }
        }
      ]
    },
    {
      "cell_type": "markdown",
      "metadata": {
        "id": "5Ml0kgvdXOE7"
      },
      "source": [
        "KNN"
      ]
    },
    {
      "cell_type": "code",
      "metadata": {
        "colab": {
          "base_uri": "https://localhost:8080/"
        },
        "id": "ocebmT6PXLde",
        "outputId": "9ca55f38-786f-4507-aa26-ec2e3ef23db4"
      },
      "source": [
        "from sklearn.metrics import classification_report, confusion_matrix\n",
        "from sklearn.metrics import accuracy_score, roc_auc_score, roc_curve\n",
        "cm = confusion_matrix(y_test, knn_pred)\n",
        "\n",
        "print('TN {}'.format(cm[0,0]))\n",
        "print('FP {}'.format(cm[0,1]))\n",
        "print('FN {}'.format(cm[1,0]))\n",
        "print('TP {}'.format(cm[1,1]))\n",
        "print('Accuracy rate {}'.format(np.divide(np.sum([cm[0,0], cm[1,1]]), np.sum(cm))*100))\n",
        "print('Misclassification rate {}'.format(np.divide(np.sum([cm[0,1], cm[1,0]]), np.sum(cm))*100))"
      ],
      "execution_count": 47,
      "outputs": [
        {
          "output_type": "stream",
          "name": "stdout",
          "text": [
            "TN 53\n",
            "FP 11\n",
            "FN 24\n",
            "TP 2\n",
            "Accuracy rate 61.111111111111114\n",
            "Misclassification rate 38.88888888888889\n"
          ]
        }
      ]
    },
    {
      "cell_type": "code",
      "metadata": {
        "colab": {
          "base_uri": "https://localhost:8080/",
          "height": 282
        },
        "id": "skoR3AeOXQyo",
        "outputId": "bc73be1f-8e09-4367-abf0-6ae7336c7414"
      },
      "source": [
        "sb.heatmap(confusion_matrix(y_test, knn_pred), annot=True,fmt=\"d\")"
      ],
      "execution_count": 48,
      "outputs": [
        {
          "output_type": "execute_result",
          "data": {
            "text/plain": [
              "<matplotlib.axes._subplots.AxesSubplot at 0x7f4cfbe13a90>"
            ]
          },
          "metadata": {},
          "execution_count": 48
        },
        {
          "output_type": "display_data",
          "data": {
            "image/png": "[encoded data removed]",
            "text/plain": [
              "<Figure size 432x288 with 2 Axes>"
            ]
          },
          "metadata": {
            "needs_background": "light"
          }
        }
      ]
    },
    {
      "cell_type": "markdown",
      "metadata": {
        "id": "wmTmGCAIXUNn"
      },
      "source": [
        "Naive-Bayes"
      ]
    },
    {
      "cell_type": "code",
      "metadata": {
        "colab": {
          "base_uri": "https://localhost:8080/"
        },
        "id": "Le5dcbdgXTO_",
        "outputId": "bef7d0db-e046-4b00-f3bf-3b02d3379846"
      },
      "source": [
        "from sklearn.metrics import classification_report, confusion_matrix\n",
        "from sklearn.metrics import accuracy_score, roc_auc_score, roc_curve\n",
        "cm = confusion_matrix(y_test, nb_pred)\n",
        "\n",
        "print('TN {}'.format(cm[0,0]))\n",
        "print('FP {}'.format(cm[0,1]))\n",
        "print('FN {}'.format(cm[1,0]))\n",
        "print('TP {}'.format(cm[1,1]))\n",
        "print('Accuracy rate {}'.format(np.divide(np.sum([cm[0,0], cm[1,1]]), np.sum(cm))*100))\n",
        "print('Misclassification rate {}'.format(np.divide(np.sum([cm[0,1], cm[1,0]]), np.sum(cm))*100))"
      ],
      "execution_count": 49,
      "outputs": [
        {
          "output_type": "stream",
          "name": "stdout",
          "text": [
            "TN 61\n",
            "FP 3\n",
            "FN 11\n",
            "TP 15\n",
            "Accuracy rate 84.44444444444444\n",
            "Misclassification rate 15.555555555555555\n"
          ]
        }
      ]
    },
    {
      "cell_type": "code",
      "metadata": {
        "colab": {
          "base_uri": "https://localhost:8080/",
          "height": 283
        },
        "id": "hRiR83ivXZCW",
        "outputId": "82913313-36fa-44e9-9f49-d825e55287fc"
      },
      "source": [
        "sb.heatmap(confusion_matrix(y_test, nb_pred), annot=True,fmt=\"d\")"
      ],
      "execution_count": 50,
      "outputs": [
        {
          "output_type": "execute_result",
          "data": {
            "text/plain": [
              "<matplotlib.axes._subplots.AxesSubplot at 0x7f4cfbd60d50>"
            ]
          },
          "metadata": {},
          "execution_count": 50
        },
        {
          "output_type": "display_data",
          "data": {
            "image/png": "[encoded data removed]",
            "text/plain": [
              "<Figure size 432x288 with 2 Axes>"
            ]
          },
          "metadata": {
            "needs_background": "light"
          }
        }
      ]
    },
    {
      "cell_type": "code",
      "metadata": {
        "id": "wjYOoMwFXbPe"
      },
      "source": [
        ""
      ],
      "execution_count": null,
      "outputs": []
    }
  ]
}